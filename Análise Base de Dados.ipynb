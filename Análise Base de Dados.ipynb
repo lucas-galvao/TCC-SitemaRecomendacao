{
 "cells": [
  {
   "cell_type": "code",
   "execution_count": 1,
   "id": "4d3ce70b",
   "metadata": {},
   "outputs": [],
   "source": [
    "import pandas as pd\n",
    "import numpy as np\n",
    "import random as rd\n",
    "import matplotlib.pyplot as plt\n",
    "import matplotlib.figure as fig"
   ]
  },
  {
   "cell_type": "markdown",
   "id": "b925203b",
   "metadata": {},
   "source": [
    "## Análise Base Completa"
   ]
  },
  {
   "cell_type": "code",
   "execution_count": 2,
   "id": "3730127d",
   "metadata": {},
   "outputs": [],
   "source": [
    "events = pd.read_csv('Data\\events.csv')"
   ]
  },
  {
   "cell_type": "code",
   "execution_count": 3,
   "id": "3e378da2",
   "metadata": {},
   "outputs": [
    {
     "name": "stdout",
     "output_type": "stream",
     "text": [
      "Quantidade de Eventos: 2756101\n",
      "Quantidade de Usuários Distintos: 1407580\n",
      "Quantidade de Produtos Distintos: 235061\n"
     ]
    }
   ],
   "source": [
    "print('Quantidade de Eventos: ' + str(len(events)))\n",
    "print('Quantidade de Usuários Distintos: ' + str(len(events['userid'].unique())))\n",
    "print('Quantidade de Produtos Distintos: ' + str(len(events['itemid'].unique())))"
   ]
  },
  {
   "cell_type": "code",
   "execution_count": 4,
   "id": "c1d3e6f7",
   "metadata": {},
   "outputs": [
    {
     "data": {
      "text/plain": [
       "cart      69332\n",
       "sale      22457\n",
       "view    2664312\n",
       "dtype: int64"
      ]
     },
     "execution_count": 4,
     "metadata": {},
     "output_type": "execute_result"
    }
   ],
   "source": [
    "events[['cart', 'sale', 'view']].sum()"
   ]
  },
  {
   "cell_type": "code",
   "execution_count": 5,
   "id": "24d67071",
   "metadata": {},
   "outputs": [
    {
     "data": {
      "text/plain": [
       "cart    0.025156\n",
       "sale    0.008148\n",
       "view    0.966696\n",
       "dtype: float64"
      ]
     },
     "execution_count": 5,
     "metadata": {},
     "output_type": "execute_result"
    }
   ],
   "source": [
    "events[['cart', 'sale', 'view']].mean()"
   ]
  },
  {
   "cell_type": "markdown",
   "id": "f4b2a863",
   "metadata": {},
   "source": [
    "## Análise Usuários"
   ]
  },
  {
   "cell_type": "code",
   "execution_count": 6,
   "id": "f48d4252",
   "metadata": {},
   "outputs": [
    {
     "data": {
      "text/plain": [
       "cart    0.049256\n",
       "sale    0.015954\n",
       "view    1.892832\n",
       "dtype: float64"
      ]
     },
     "execution_count": 6,
     "metadata": {},
     "output_type": "execute_result"
    }
   ],
   "source": [
    "gb_users = events.groupby(['userid'], as_index=False).sum()\n",
    "\n",
    "gb_users[['cart', 'sale', 'view']].mean()"
   ]
  },
  {
   "cell_type": "code",
   "execution_count": 7,
   "id": "41b5c9cd",
   "metadata": {},
   "outputs": [
    {
     "name": "stdout",
     "output_type": "stream",
     "text": [
      "Correlação Vendas - Visualizações: \n",
      "0.78\n",
      "\n",
      "Correlação Vendas - Adição ao Carrinho: \n",
      "0.9\n"
     ]
    }
   ],
   "source": [
    "corr_view = round(gb_users['sale'].corr(gb_users['view']), 2)\n",
    "corr_cart = round(gb_users['sale'].corr(gb_users['cart']), 2)                  \n",
    "\n",
    "print('Correlação Vendas - Visualizações: \\n' + str(corr_view))\n",
    "print('\\nCorrelação Vendas - Adição ao Carrinho: \\n' + str(corr_cart))"
   ]
  },
  {
   "cell_type": "markdown",
   "id": "26efe021",
   "metadata": {},
   "source": [
    "### Análise Compradores"
   ]
  },
  {
   "cell_type": "code",
   "execution_count": 8,
   "id": "dac51c61",
   "metadata": {},
   "outputs": [],
   "source": [
    "buyers = gb_users[gb_users['sale'] > 0]\n",
    "\n",
    "buyers_dict = {}\n",
    "buyers_dict['1 Compra'] = buyers[buyers['sale'] == 1]['sale'].count()\n",
    "buyers_dict['2 Compras'] = buyers[buyers['sale'] == 2]['sale'].count()\n",
    "buyers_dict['3 Compras'] = buyers[buyers['sale'] == 3]['sale'].count()\n",
    "buyers_dict['> 3 Compras'] = buyers[buyers['sale'] > 3]['sale'].count()\n",
    "\n",
    "bd_keys = list(buyers_dict.keys())\n",
    "bd_values = list(buyers_dict.values())"
   ]
  },
  {
   "cell_type": "code",
   "execution_count": 9,
   "id": "d73e0a22",
   "metadata": {},
   "outputs": [],
   "source": [
    "def addlabels(x,y,a):\n",
    "    for i in range(len(x)):\n",
    "        plt.text(i, y[i] + a, y[i], ha = 'center', color = 'black')"
   ]
  },
  {
   "cell_type": "code",
   "execution_count": 10,
   "id": "9ba6b459",
   "metadata": {},
   "outputs": [
    {
     "name": "stdout",
     "output_type": "stream",
     "text": [
      "Quantidade de Compras          Quantidade de Usuários         Percentual                    \n",
      "1 Compra                       9143                           78.02%                        \n",
      "2 Compras                      1549                           13.22%                        \n",
      "3 Compras                      435                            3.71%                         \n",
      "> 3 Compras                    592                            5.05%                         \n"
     ]
    },
    {
     "data": {
      "image/png": "[encoded data removed]",
      "text/plain": [
       "<Figure size 792x504 with 1 Axes>"
      ]
     },
     "metadata": {
      "needs_background": "light"
     },
     "output_type": "display_data"
    }
   ],
   "source": [
    "print ('{:<30} {:<30} {:<30}'.format('Quantidade de Compras', 'Quantidade de Usuários', 'Percentual'))\n",
    "l = len(buyers)\n",
    "\n",
    "for i in range(len(bd_keys)):\n",
    "    print ('{:<30} {:<30} {:<30}'.format(bd_keys[i], bd_values[i], str(round(100*bd_values[i]/ l, 2)) + '%'))\n",
    "\n",
    "plt.figure(figsize=(11,7))\n",
    "plt.bar(range(len(buyers_dict)), list(buyers_dict.values()), align='center', color='midnightblue')\n",
    "plt.xticks(range(len(buyers_dict)), list(buyers_dict.keys()))\n",
    "addlabels(range(len(buyers_dict)), list(buyers_dict.values()), 70)\n",
    "plt.ylabel('Quantidade de Usuários')\n",
    "plt.xlabel('Quantidade de Compras')\n",
    "\n",
    "plt.show()"
   ]
  },
  {
   "cell_type": "code",
   "execution_count": 11,
   "id": "af370cb0",
   "metadata": {},
   "outputs": [],
   "source": [
    "views_dict = {}\n",
    "views_dict['0 Compra'] = round(gb_users[gb_users['sale'] == 0]['view'].mean(), 2)\n",
    "views_dict['1 Compra'] = round(gb_users[gb_users['sale'] == 1]['view'].mean(), 2)\n",
    "views_dict['2 Compras'] = round(gb_users[gb_users['sale'] == 2]['view'].mean(), 2)\n",
    "views_dict['3 Compras'] = round(gb_users[gb_users['sale'] == 3]['view'].mean(), 2)\n",
    "views_dict['> 3 Compras'] = round(gb_users[gb_users['sale'] > 3]['view'].mean(), 2)\n",
    "\n",
    "vd_keys = list(views_dict.keys())\n",
    "vd_values = list(views_dict.values())"
   ]
  },
  {
   "cell_type": "code",
   "execution_count": 12,
   "id": "bb52dd14",
   "metadata": {},
   "outputs": [
    {
     "name": "stdout",
     "output_type": "stream",
     "text": [
      "Quantidade de Compras          Média de Visualizações        \n",
      "0 Compra                       1.78                          \n",
      "1 Compra                       6.09                          \n",
      "2 Compras                      14.31                         \n",
      "3 Compras                      20.07                         \n",
      "> 3 Compras                    159.16                        \n"
     ]
    },
    {
     "data": {
      "image/png": "[encoded data removed]",
      "text/plain": [
       "<Figure size 792x504 with 1 Axes>"
      ]
     },
     "metadata": {
      "needs_background": "light"
     },
     "output_type": "display_data"
    }
   ],
   "source": [
    "print ('{:<30} {:<30}'.format('Quantidade de Compras', 'Média de Visualizações'))\n",
    "l = len(buyers)\n",
    "\n",
    "for i in range(len(vd_keys)):\n",
    "    print ('{:<30} {:<30}'.format(vd_keys[i], vd_values[i]))\n",
    "\n",
    "plt.figure(figsize=(11,7))\n",
    "plt.bar(range(len(views_dict)), list(views_dict.values()), align='center', color='midnightblue')\n",
    "plt.xticks(range(len(views_dict)), list(views_dict.keys()))\n",
    "addlabels(range(len(views_dict)), list(views_dict.values()), 1)\n",
    "plt.ylabel('Média de Visualizações')\n",
    "plt.xlabel('Quantidade de Compras')\n",
    "\n",
    "plt.show()"
   ]
  },
  {
   "cell_type": "code",
   "execution_count": 13,
   "id": "467a3d19",
   "metadata": {},
   "outputs": [],
   "source": [
    "cart_dict = {}\n",
    "cart_dict['0 Compra'] = round(gb_users[gb_users['sale'] == 0]['cart'].mean(), 2)\n",
    "cart_dict['1 Compra'] = round(gb_users[gb_users['sale'] == 1]['cart'].mean(), 2)\n",
    "cart_dict['2 Compras'] = round(gb_users[gb_users['sale'] == 2]['cart'].mean(), 2)\n",
    "cart_dict['3 Compras'] = round(gb_users[gb_users['sale'] == 3]['cart'].mean(), 2)\n",
    "cart_dict['> 3 Compras'] = round(gb_users[gb_users['sale'] > 3]['cart'].mean(), 2)\n",
    "\n",
    "cd_keys = list(cart_dict.keys())\n",
    "cd_values = list(cart_dict.values())"
   ]
  },
  {
   "cell_type": "code",
   "execution_count": 14,
   "id": "934052a8",
   "metadata": {},
   "outputs": [
    {
     "name": "stdout",
     "output_type": "stream",
     "text": [
      "Quantidade de Compras          Média de Adições ao Carrinho  \n",
      "0 Compra                       0.03                          \n",
      "1 Compra                       1.08                          \n",
      "2 Compras                      2.43                          \n",
      "3 Compras                      4.22                          \n",
      "> 3 Compras                    20.27                         \n"
     ]
    },
    {
     "data": {
      "image/png": "[encoded data removed]",
      "text/plain": [
       "<Figure size 792x504 with 1 Axes>"
      ]
     },
     "metadata": {
      "needs_background": "light"
     },
     "output_type": "display_data"
    }
   ],
   "source": [
    "print ('{:<30} {:<30}'.format('Quantidade de Compras', 'Média de Adições ao Carrinho'))\n",
    "l = len(buyers)\n",
    "\n",
    "for i in range(len(cd_keys)):\n",
    "    print ('{:<30} {:<30}'.format(cd_keys[i], cd_values[i]))\n",
    "\n",
    "plt.figure(figsize=(11,7))\n",
    "plt.bar(range(len(cart_dict)), list(cart_dict.values()), align='center', color='midnightblue')\n",
    "plt.xticks(range(len(cart_dict)), list(cart_dict.keys()))\n",
    "addlabels(range(len(cart_dict)), list(cart_dict.values()), 0.15)\n",
    "plt.ylabel('Média de Adições ao Carrinho')\n",
    "plt.xlabel('Quantidade de Compras')\n",
    "\n",
    "plt.show()"
   ]
  },
  {
   "cell_type": "markdown",
   "id": "0b628047",
   "metadata": {},
   "source": [
    "## Similaridades Compras Bases Treinamento e Teste"
   ]
  },
  {
   "cell_type": "code",
   "execution_count": 15,
   "id": "ebca98a7",
   "metadata": {},
   "outputs": [],
   "source": [
    "train = pd.read_csv('Data/train_binario.csv')\n",
    "test = pd.read_csv('Data/test_binario.csv')"
   ]
  },
  {
   "cell_type": "code",
   "execution_count": 16,
   "id": "a2a85a11",
   "metadata": {},
   "outputs": [],
   "source": [
    "gb_train = train.groupby(['userid', 'itemid'], as_index=False).sum()\n",
    "gb_test = test.groupby(['userid', 'itemid'], as_index=False).sum()\n",
    "\n",
    "gb_train_buyers = gb_train[gb_train['sale'] > 0]\n",
    "gb_test_buyers = gb_test[gb_test['sale'] > 0]"
   ]
  },
  {
   "cell_type": "code",
   "execution_count": 17,
   "id": "33859959",
   "metadata": {},
   "outputs": [
    {
     "name": "stdout",
     "output_type": "stream",
     "text": [
      "Quantidade de Usuários Treinamento: 9337\n",
      "Quantidade de Usuários Teste: 2475\n",
      "Quantidade de Usuários em Comum: 93\n",
      "Percentual de Usuário Teste em Comum: 3.8%\n"
     ]
    }
   ],
   "source": [
    "train_users = gb_train_buyers['userid'].unique()\n",
    "test_users = gb_test_buyers['userid'].unique()\n",
    "\n",
    "qtd_train_users = len(train_users)\n",
    "qtd_test_users = len(test_users)\n",
    "qtd_users_inter = len(set(train_users).intersection(test_users))\n",
    "\n",
    "print('Quantidade de Usuários Treinamento: ' + str(qtd_train_users))\n",
    "print('Quantidade de Usuários Teste: ' + str(qtd_test_users))\n",
    "print('Quantidade de Usuários em Comum: ' + str(qtd_users_inter))\n",
    "print('Percentual de Usuário Teste em Comum: ' + str(round(qtd_users_inter / qtd_test_users, 3) * 100) + '%')"
   ]
  },
  {
   "cell_type": "code",
   "execution_count": 18,
   "id": "72890b18",
   "metadata": {},
   "outputs": [
    {
     "name": "stdout",
     "output_type": "stream",
     "text": [
      "Quantidade de Items Treinamento: 10081\n",
      "Quantidade de Items Teste: 3295\n",
      "Quantidade de Items em Comum: 1351\n",
      "Percentual de Items Teste em Comum: 41.0%\n"
     ]
    }
   ],
   "source": [
    "train_items = gb_train_buyers['itemid'].unique()\n",
    "test_items = gb_test_buyers['itemid'].unique()\n",
    "\n",
    "qtd_train_items = len(train_items)\n",
    "qtd_test_items = len(test_items)\n",
    "qtd_items_inter = len(set(train_items).intersection(test_items))\n",
    "\n",
    "print('Quantidade de Items Treinamento: ' + str(qtd_train_items))\n",
    "print('Quantidade de Items Teste: ' + str(qtd_test_items))\n",
    "print('Quantidade de Items em Comum: ' + str(qtd_items_inter))\n",
    "print('Percentual de Items Teste em Comum: ' + str(round(qtd_items_inter / qtd_test_items, 3) * 100) + '%')"
   ]
  }
 ],
 "metadata": {
  "kernelspec": {
   "display_name": "Python (reco)",
   "language": "python",
   "name": "reco_base"
  },
  "language_info": {
   "codemirror_mode": {
    "name": "ipython",
    "version": 3
   },
   "file_extension": ".py",
   "mimetype": "text/x-python",
   "name": "python",
   "nbconvert_exporter": "python",
   "pygments_lexer": "ipython3",
   "version": "3.6.11"
  }
 },
 "nbformat": 4,
 "nbformat_minor": 5
}
