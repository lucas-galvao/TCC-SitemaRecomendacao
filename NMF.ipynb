{
 "cells": [
  {
   "cell_type": "code",
   "execution_count": 44,
   "id": "bd8c1781",
   "metadata": {},
   "outputs": [],
   "source": [
    "import pandas as pd\n",
    "import numpy as np\n",
    "import random as rd\n",
    "from surprise import Dataset, Reader\n",
    "from surprise.prediction_algorithms.matrix_factorization import NMF\n",
    "from surprise.dataset import DatasetAutoFolds\n",
    "from Functions import *"
   ]
  },
  {
   "cell_type": "code",
   "execution_count": 32,
   "id": "0eab44a0",
   "metadata": {},
   "outputs": [],
   "source": [
    "train_binario = pd.read_csv('Data/train_binario.csv')\n",
    "train_pesos = pd.read_csv('Data/train_pesos.csv')\n",
    "train_categorias = pd.read_csv('Data/train_categorias.csv')"
   ]
  },
  {
   "cell_type": "code",
   "execution_count": 33,
   "id": "b1f591f3",
   "metadata": {},
   "outputs": [],
   "source": [
    "test_binario = pd.read_csv('Data/test_binario.csv')\n",
    "test_pesos = pd.read_csv('Data/test_pesos.csv')\n",
    "test_categorias = pd.read_csv('Data/test_categorias.csv')"
   ]
  },
  {
   "cell_type": "code",
   "execution_count": 24,
   "id": "9289c93c",
   "metadata": {},
   "outputs": [],
   "source": [
    "# O NMF acusa um erro quando é alimentado com um rating = 0, para isso o valor é adicionado em 1 para a base binario\n",
    "\n",
    "train_binario['rating'] = train_binario['rating'] + 1\n",
    "test_binario['rating'] = test_binario['rating'] + 1"
   ]
  },
  {
   "cell_type": "code",
   "execution_count": 25,
   "id": "c3998c25",
   "metadata": {},
   "outputs": [],
   "source": [
    "colunas = ['userid','itemid', 'rating']"
   ]
  },
  {
   "cell_type": "markdown",
   "id": "18d0af9c",
   "metadata": {},
   "source": [
    "## Base Binário"
   ]
  },
  {
   "cell_type": "code",
   "execution_count": 35,
   "id": "25c6d20b",
   "metadata": {},
   "outputs": [],
   "source": [
    "reader_binario = Reader(line_format='user item rating', rating_scale=(0, 1))\n",
    "\n",
    "train_binario_surprise = Dataset.load_from_df(train_binario[colunas], reader_binario)\n",
    "full_train_binario = train_binario_surprise.build_full_trainset()"
   ]
  },
  {
   "cell_type": "code",
   "execution_count": 36,
   "id": "f604e304",
   "metadata": {},
   "outputs": [
    {
     "name": "stdout",
     "output_type": "stream",
     "text": [
      "Processing epoch 0\n",
      "Processing epoch 1\n"
     ]
    },
    {
     "ename": "ZeroDivisionError",
     "evalue": "float division",
     "output_type": "error",
     "traceback": [
      "\u001b[1;31m---------------------------------------------------------------------------\u001b[0m",
      "\u001b[1;31mZeroDivisionError\u001b[0m                         Traceback (most recent call last)",
      "\u001b[1;32m<ipython-input-36-2a35cf952e12>\u001b[0m in \u001b[0;36m<module>\u001b[1;34m\u001b[0m\n\u001b[0;32m      1\u001b[0m \u001b[0mnmf_binario\u001b[0m \u001b[1;33m=\u001b[0m \u001b[0mNMF\u001b[0m\u001b[1;33m(\u001b[0m\u001b[0mrandom_state\u001b[0m\u001b[1;33m=\u001b[0m\u001b[1;36m0\u001b[0m\u001b[1;33m,\u001b[0m \u001b[0mn_factors\u001b[0m\u001b[1;33m=\u001b[0m\u001b[1;36m15\u001b[0m\u001b[1;33m,\u001b[0m \u001b[0mn_epochs\u001b[0m\u001b[1;33m=\u001b[0m\u001b[1;36m40\u001b[0m\u001b[1;33m,\u001b[0m \u001b[0mverbose\u001b[0m\u001b[1;33m=\u001b[0m\u001b[1;32mTrue\u001b[0m\u001b[1;33m,\u001b[0m \u001b[0mbiased\u001b[0m\u001b[1;33m=\u001b[0m\u001b[1;32mTrue\u001b[0m\u001b[1;33m)\u001b[0m\u001b[1;33m\u001b[0m\u001b[1;33m\u001b[0m\u001b[0m\n\u001b[0;32m      2\u001b[0m \u001b[1;33m\u001b[0m\u001b[0m\n\u001b[1;32m----> 3\u001b[1;33m \u001b[0mnmf_binario\u001b[0m\u001b[1;33m.\u001b[0m\u001b[0mfit\u001b[0m\u001b[1;33m(\u001b[0m\u001b[0mfull_train_binario\u001b[0m\u001b[1;33m)\u001b[0m\u001b[1;33m\u001b[0m\u001b[1;33m\u001b[0m\u001b[0m\n\u001b[0m",
      "\u001b[1;32mD:\\Users\\lucas\\anaconda3\\envs\\reco_base\\lib\\site-packages\\surprise\\prediction_algorithms\\matrix_factorization.pyx\u001b[0m in \u001b[0;36msurprise.prediction_algorithms.matrix_factorization.NMF.fit\u001b[1;34m()\u001b[0m\n",
      "\u001b[1;32mD:\\Users\\lucas\\anaconda3\\envs\\reco_base\\lib\\site-packages\\surprise\\prediction_algorithms\\matrix_factorization.pyx\u001b[0m in \u001b[0;36msurprise.prediction_algorithms.matrix_factorization.NMF.sgd\u001b[1;34m()\u001b[0m\n",
      "\u001b[1;31mZeroDivisionError\u001b[0m: float division"
     ]
    }
   ],
   "source": [
    "nmf_binario = NMF(random_state=0, n_factors=15, n_epochs=40, verbose=True, biased=True)\n",
    "\n",
    "nmf_binario.fit(full_train_binario)"
   ]
  },
  {
   "cell_type": "code",
   "execution_count": 47,
   "id": "7f39033e",
   "metadata": {},
   "outputs": [],
   "source": [
    "metrics_nmf_binario = {'rmse': 0, 'mae': 0, 'rmse sale': 0, 'mae sale': 0}\n",
    "hit_rate_nmf_binario = {5: {'hit': 0, 'hit_rate': 0}, 10: {'hit': 0, 'hit_rate': 0}}\n",
    "export_metrics(metrics_nmf_binario, hit_rate_nmf_binario, 'Metrics/nmf_binario.csv')"
   ]
  },
  {
   "cell_type": "code",
   "execution_count": null,
   "id": "9889b7c2",
   "metadata": {},
   "outputs": [],
   "source": [
    "pred_nmf_binario = get_pred(nmf_binario, test_binario)\n",
    "comp_nmf_binario = merge_test_pred(test_binario, pred_nmf_binario)\n",
    "hit_rate_nmf_binario = get_hit_rate(nmf_binario, test_binario, [5, 10], 1)\n",
    "metrics_nmf_binario = get_metrics(comp_nmf_binario, 1)\n",
    "export_metrics(metrics_nmf_binario, hit_rate_nmf_binario, 'Metrics/nmf_binario.csv')"
   ]
  },
  {
   "cell_type": "markdown",
   "id": "7bd0339a",
   "metadata": {},
   "source": [
    "## Base Pesos"
   ]
  },
  {
   "cell_type": "code",
   "execution_count": 29,
   "id": "f4d490e4",
   "metadata": {},
   "outputs": [],
   "source": [
    "reader_pesos = Reader(line_format='user item rating', rating_scale=(0, 1))\n",
    "\n",
    "train_pesos_surprise = Dataset.load_from_df(train_pesos[colunas], reader_pesos)\n",
    "full_train_pesos = train_pesos_surprise.build_full_trainset()"
   ]
  },
  {
   "cell_type": "code",
   "execution_count": 30,
   "id": "e309d1c7",
   "metadata": {},
   "outputs": [
    {
     "name": "stdout",
     "output_type": "stream",
     "text": [
      "Processing epoch 0\n",
      "Processing epoch 1\n",
      "Processing epoch 2\n",
      "Processing epoch 3\n",
      "Processing epoch 4\n",
      "Processing epoch 5\n",
      "Processing epoch 6\n",
      "Processing epoch 7\n",
      "Processing epoch 8\n",
      "Processing epoch 9\n",
      "Processing epoch 10\n",
      "Processing epoch 11\n",
      "Processing epoch 12\n",
      "Processing epoch 13\n",
      "Processing epoch 14\n",
      "Processing epoch 15\n",
      "Processing epoch 16\n",
      "Processing epoch 17\n",
      "Processing epoch 18\n",
      "Processing epoch 19\n",
      "Processing epoch 20\n",
      "Processing epoch 21\n",
      "Processing epoch 22\n",
      "Processing epoch 23\n",
      "Processing epoch 24\n",
      "Processing epoch 25\n",
      "Processing epoch 26\n",
      "Processing epoch 27\n",
      "Processing epoch 28\n",
      "Processing epoch 29\n",
      "Processing epoch 30\n",
      "Processing epoch 31\n",
      "Processing epoch 32\n",
      "Processing epoch 33\n",
      "Processing epoch 34\n",
      "Processing epoch 35\n",
      "Processing epoch 36\n",
      "Processing epoch 37\n",
      "Processing epoch 38\n",
      "Processing epoch 39\n"
     ]
    },
    {
     "data": {
      "text/plain": [
       "<surprise.prediction_algorithms.matrix_factorization.NMF at 0x28a0f625b00>"
      ]
     },
     "execution_count": 30,
     "metadata": {},
     "output_type": "execute_result"
    }
   ],
   "source": [
    "nmf_pesos = NMF(random_state=0, n_factors=15, n_epochs=40, verbose=True, biased=True)\n",
    "\n",
    "nmf_pesos.fit(full_train_pesos)"
   ]
  },
  {
   "cell_type": "code",
   "execution_count": 31,
   "id": "f74fcf91",
   "metadata": {},
   "outputs": [],
   "source": [
    "pred_nmf_pesos = get_pred(nmf_pesos, test_pesos)\n",
    "comp_nmf_pesos = merge_test_pred(test_pesos, pred_nmf_pesos)\n",
    "hit_rate_nmf_pesos = get_hit_rate(nmf_pesos, test_pesos, [5, 10], 1)\n",
    "metrics_nmf_pesos = get_metrics(comp_nmf_pesos, 1)\n",
    "export_metrics(metrics_nmf_pesos, hit_rate_nmf_pesos, 'Metrics/nmf_pesos.csv')"
   ]
  },
  {
   "cell_type": "markdown",
   "id": "ae0c777c",
   "metadata": {},
   "source": [
    "## Base Categorias"
   ]
  },
  {
   "cell_type": "code",
   "execution_count": 12,
   "id": "61ecf63a",
   "metadata": {},
   "outputs": [],
   "source": [
    "reader_categorias = Reader(line_format='user item rating', rating_scale=(0, 3))\n",
    "\n",
    "train_categorias_surprise = Dataset.load_from_df(train_categorias[colunas], reader_categorias)\n",
    "full_train_categorias = train_categorias_surprise.build_full_trainset()"
   ]
  },
  {
   "cell_type": "code",
   "execution_count": 13,
   "id": "954c2807",
   "metadata": {},
   "outputs": [
    {
     "name": "stdout",
     "output_type": "stream",
     "text": [
      "Processing epoch 0\n",
      "Processing epoch 1\n",
      "Processing epoch 2\n",
      "Processing epoch 3\n",
      "Processing epoch 4\n",
      "Processing epoch 5\n",
      "Processing epoch 6\n",
      "Processing epoch 7\n",
      "Processing epoch 8\n",
      "Processing epoch 9\n",
      "Processing epoch 10\n",
      "Processing epoch 11\n",
      "Processing epoch 12\n",
      "Processing epoch 13\n",
      "Processing epoch 14\n",
      "Processing epoch 15\n",
      "Processing epoch 16\n",
      "Processing epoch 17\n",
      "Processing epoch 18\n",
      "Processing epoch 19\n",
      "Processing epoch 20\n",
      "Processing epoch 21\n",
      "Processing epoch 22\n",
      "Processing epoch 23\n",
      "Processing epoch 24\n",
      "Processing epoch 25\n",
      "Processing epoch 26\n",
      "Processing epoch 27\n",
      "Processing epoch 28\n",
      "Processing epoch 29\n",
      "Processing epoch 30\n",
      "Processing epoch 31\n",
      "Processing epoch 32\n",
      "Processing epoch 33\n",
      "Processing epoch 34\n",
      "Processing epoch 35\n",
      "Processing epoch 36\n",
      "Processing epoch 37\n",
      "Processing epoch 38\n",
      "Processing epoch 39\n"
     ]
    },
    {
     "data": {
      "text/plain": [
       "<surprise.prediction_algorithms.matrix_factorization.NMF at 0x2897c6568d0>"
      ]
     },
     "execution_count": 13,
     "metadata": {},
     "output_type": "execute_result"
    }
   ],
   "source": [
    "nmf_categorias = NMF(random_state=0, n_factors=15, n_epochs=40, verbose=True, biased=True)\n",
    "\n",
    "nmf_categorias.fit(full_train_categorias)"
   ]
  },
  {
   "cell_type": "code",
   "execution_count": 14,
   "id": "ebc4aa38",
   "metadata": {},
   "outputs": [],
   "source": [
    "pred_nmf_categorias = get_pred(nmf_categorias, test_categorias)\n",
    "comp_nmf_categorias = merge_test_pred(test_categorias, pred_nmf_categorias)\n",
    "hit_rate_nmf_categorias = get_hit_rate(nmf_categorias, test_categorias, [5, 10], 3)\n",
    "metrics_nmf_categorias = get_metrics(comp_nmf_categorias, 3)\n",
    "export_metrics(metrics_nmf_categorias, hit_rate_nmf_categorias, 'Metrics/nmf_categorias.csv')"
   ]
  }
 ],
 "metadata": {
  "kernelspec": {
   "display_name": "Python (reco)",
   "language": "python",
   "name": "reco_base"
  },
  "language_info": {
   "codemirror_mode": {
    "name": "ipython",
    "version": 3
   },
   "file_extension": ".py",
   "mimetype": "text/x-python",
   "name": "python",
   "nbconvert_exporter": "python",
   "pygments_lexer": "ipython3",
   "version": "3.6.11"
  }
 },
 "nbformat": 4,
 "nbformat_minor": 5
}
