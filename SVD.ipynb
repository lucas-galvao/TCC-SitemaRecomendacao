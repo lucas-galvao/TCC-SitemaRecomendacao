{
 "cells": [
  {
   "cell_type": "code",
   "execution_count": 1,
   "id": "5e53033c",
   "metadata": {},
   "outputs": [],
   "source": [
    "import pandas as pd\n",
    "import numpy as np\n",
    "import random as rd\n",
    "from surprise import SVD, Dataset, Reader, SVDpp\n",
    "from surprise.dataset import DatasetAutoFolds\n",
    "from Functions import *"
   ]
  },
  {
   "cell_type": "code",
   "execution_count": 2,
   "id": "1221c785",
   "metadata": {},
   "outputs": [],
   "source": [
    "train_binario = pd.read_csv('Data/train_binario.csv')\n",
    "train_pesos = pd.read_csv('Data/train_pesos.csv')\n",
    "train_categorias = pd.read_csv('Data/train_categorias.csv')"
   ]
  },
  {
   "cell_type": "code",
   "execution_count": 3,
   "id": "7847cde5",
   "metadata": {},
   "outputs": [],
   "source": [
    "test_binario = pd.read_csv('Data/test_binario.csv')\n",
    "test_pesos = pd.read_csv('Data/test_pesos.csv')\n",
    "test_categorias = pd.read_csv('Data/test_categorias.csv')"
   ]
  },
  {
   "cell_type": "code",
   "execution_count": 4,
   "id": "bf54d01a",
   "metadata": {},
   "outputs": [],
   "source": [
    "colunas = ['userid','itemid', 'rating']"
   ]
  },
  {
   "cell_type": "markdown",
   "id": "dbca402b",
   "metadata": {},
   "source": [
    "## Base Binário"
   ]
  },
  {
   "cell_type": "code",
   "execution_count": 5,
   "id": "5511f931",
   "metadata": {},
   "outputs": [],
   "source": [
    "reader_binario = Reader(line_format='user item rating', rating_scale=(0, 1))\n",
    "\n",
    "train_binario_surprise = Dataset.load_from_df(train_binario[colunas], reader_binario)\n",
    "full_train_binario = train_binario_surprise.build_full_trainset()"
   ]
  },
  {
   "cell_type": "code",
   "execution_count": 6,
   "id": "9ab935fe",
   "metadata": {
    "scrolled": false
   },
   "outputs": [
    {
     "name": "stdout",
     "output_type": "stream",
     "text": [
      "Processing epoch 0\n",
      "Processing epoch 1\n",
      "Processing epoch 2\n",
      "Processing epoch 3\n",
      "Processing epoch 4\n",
      "Processing epoch 5\n",
      "Processing epoch 6\n",
      "Processing epoch 7\n",
      "Processing epoch 8\n",
      "Processing epoch 9\n",
      "Processing epoch 10\n",
      "Processing epoch 11\n",
      "Processing epoch 12\n",
      "Processing epoch 13\n",
      "Processing epoch 14\n",
      "Processing epoch 15\n",
      "Processing epoch 16\n",
      "Processing epoch 17\n",
      "Processing epoch 18\n",
      "Processing epoch 19\n",
      "Processing epoch 20\n",
      "Processing epoch 21\n",
      "Processing epoch 22\n",
      "Processing epoch 23\n",
      "Processing epoch 24\n"
     ]
    },
    {
     "data": {
      "text/plain": [
       "<surprise.prediction_algorithms.matrix_factorization.SVD at 0x21245a32470>"
      ]
     },
     "execution_count": 6,
     "metadata": {},
     "output_type": "execute_result"
    }
   ],
   "source": [
    "svd_binario = SVD(random_state=0, n_factors=100, n_epochs=25, verbose=True)\n",
    "\n",
    "svd_binario.fit(full_train_binario)"
   ]
  },
  {
   "cell_type": "code",
   "execution_count": 7,
   "id": "bca62d10",
   "metadata": {},
   "outputs": [
    {
     "name": "stdout",
     "output_type": "stream",
     "text": [
      " processing epoch 0\n",
      " processing epoch 1\n",
      " processing epoch 2\n",
      " processing epoch 3\n",
      " processing epoch 4\n",
      " processing epoch 5\n",
      " processing epoch 6\n",
      " processing epoch 7\n",
      " processing epoch 8\n",
      " processing epoch 9\n",
      " processing epoch 10\n",
      " processing epoch 11\n",
      " processing epoch 12\n",
      " processing epoch 13\n",
      " processing epoch 14\n",
      " processing epoch 15\n",
      " processing epoch 16\n",
      " processing epoch 17\n",
      " processing epoch 18\n",
      " processing epoch 19\n",
      " processing epoch 20\n",
      " processing epoch 21\n",
      " processing epoch 22\n",
      " processing epoch 23\n",
      " processing epoch 24\n"
     ]
    },
    {
     "data": {
      "text/plain": [
       "<surprise.prediction_algorithms.matrix_factorization.SVDpp at 0x21245bda898>"
      ]
     },
     "execution_count": 7,
     "metadata": {},
     "output_type": "execute_result"
    }
   ],
   "source": [
    "svdpp_binario = SVDpp(random_state=0, n_factors=100, n_epochs=25, verbose=True)\n",
    "svdpp_binario.fit(full_train_binario)"
   ]
  },
  {
   "cell_type": "code",
   "execution_count": 8,
   "id": "8b2cce15",
   "metadata": {},
   "outputs": [],
   "source": [
    "pred_svd_binario = get_pred(svd_binario, test_binario)\n",
    "comp_svd_binario = merge_test_pred(test_binario, pred_svd_binario)\n",
    "hit_rate_svd_binario = get_hit_rate(svd_binario, test_binario, [5, 10], 1)\n",
    "metrics_svd_binario = get_metrics(comp_svd_binario, 1)\n",
    "export_metrics(metrics_svd_binario, hit_rate_svd_binario, 'Metrics/svd_binario.csv')"
   ]
  },
  {
   "cell_type": "code",
   "execution_count": 9,
   "id": "6cbbdf1b",
   "metadata": {},
   "outputs": [],
   "source": [
    "pred_svdpp_binario = get_pred(svdpp_binario, test_binario)\n",
    "comp_svdpp_binario = merge_test_pred(test_binario, pred_svdpp_binario)\n",
    "hit_rate_svdpp_binario = get_hit_rate(svdpp_binario, test_binario, [5, 10], 1)\n",
    "metrics_svdpp_binario = get_metrics(comp_svdpp_binario, 1)\n",
    "export_metrics(metrics_svdpp_binario, hit_rate_svdpp_binario, 'Metrics/svdpp_binario.csv')"
   ]
  },
  {
   "cell_type": "markdown",
   "id": "0c937d66",
   "metadata": {},
   "source": [
    "## Base Pesos"
   ]
  },
  {
   "cell_type": "code",
   "execution_count": 10,
   "id": "f7d6f03a",
   "metadata": {},
   "outputs": [],
   "source": [
    "reader_pesos = Reader(line_format='user item rating', rating_scale=(0, 1))\n",
    "\n",
    "train_pesos_surprise = Dataset.load_from_df(train_pesos[colunas], reader_pesos)\n",
    "full_train_pesos = train_pesos_surprise.build_full_trainset()"
   ]
  },
  {
   "cell_type": "code",
   "execution_count": 11,
   "id": "331f50f2",
   "metadata": {
    "scrolled": false
   },
   "outputs": [
    {
     "name": "stdout",
     "output_type": "stream",
     "text": [
      "Processing epoch 0\n",
      "Processing epoch 1\n",
      "Processing epoch 2\n",
      "Processing epoch 3\n",
      "Processing epoch 4\n",
      "Processing epoch 5\n",
      "Processing epoch 6\n",
      "Processing epoch 7\n",
      "Processing epoch 8\n",
      "Processing epoch 9\n",
      "Processing epoch 10\n",
      "Processing epoch 11\n",
      "Processing epoch 12\n",
      "Processing epoch 13\n",
      "Processing epoch 14\n",
      "Processing epoch 15\n",
      "Processing epoch 16\n",
      "Processing epoch 17\n",
      "Processing epoch 18\n",
      "Processing epoch 19\n",
      "Processing epoch 20\n",
      "Processing epoch 21\n",
      "Processing epoch 22\n",
      "Processing epoch 23\n",
      "Processing epoch 24\n"
     ]
    },
    {
     "data": {
      "text/plain": [
       "<surprise.prediction_algorithms.matrix_factorization.SVD at 0x2123458a2e8>"
      ]
     },
     "execution_count": 11,
     "metadata": {},
     "output_type": "execute_result"
    }
   ],
   "source": [
    "svd_pesos = SVD(random_state=0, n_factors=100, n_epochs=25, verbose=True)\n",
    "\n",
    "svd_pesos.fit(full_train_pesos)"
   ]
  },
  {
   "cell_type": "code",
   "execution_count": 12,
   "id": "bde0e341",
   "metadata": {},
   "outputs": [
    {
     "name": "stdout",
     "output_type": "stream",
     "text": [
      " processing epoch 0\n",
      " processing epoch 1\n",
      " processing epoch 2\n",
      " processing epoch 3\n",
      " processing epoch 4\n",
      " processing epoch 5\n",
      " processing epoch 6\n",
      " processing epoch 7\n",
      " processing epoch 8\n",
      " processing epoch 9\n",
      " processing epoch 10\n",
      " processing epoch 11\n",
      " processing epoch 12\n",
      " processing epoch 13\n",
      " processing epoch 14\n",
      " processing epoch 15\n",
      " processing epoch 16\n",
      " processing epoch 17\n",
      " processing epoch 18\n",
      " processing epoch 19\n",
      " processing epoch 20\n",
      " processing epoch 21\n",
      " processing epoch 22\n",
      " processing epoch 23\n",
      " processing epoch 24\n"
     ]
    },
    {
     "data": {
      "text/plain": [
       "<surprise.prediction_algorithms.matrix_factorization.SVDpp at 0x212739b55f8>"
      ]
     },
     "execution_count": 12,
     "metadata": {},
     "output_type": "execute_result"
    }
   ],
   "source": [
    "svdpp_pesos = SVDpp(random_state=0, n_factors=100, n_epochs=25, verbose=True)\n",
    "svdpp_pesos.fit(full_train_pesos)"
   ]
  },
  {
   "cell_type": "code",
   "execution_count": 13,
   "id": "8019b709",
   "metadata": {},
   "outputs": [],
   "source": [
    "pred_svd_pesos = get_pred(svd_pesos, test_pesos)\n",
    "comp_svd_pesos = merge_test_pred(test_pesos, pred_svd_pesos)\n",
    "hit_rate_svd_pesos = get_hit_rate(svd_pesos, test_pesos, [5, 10], 1)\n",
    "metrics_svd_pesos = get_metrics(comp_svd_pesos, 1)\n",
    "export_metrics(metrics_svd_pesos, hit_rate_svd_pesos, 'Metrics/svd_pesos.csv')"
   ]
  },
  {
   "cell_type": "code",
   "execution_count": 14,
   "id": "0ee18be2",
   "metadata": {},
   "outputs": [],
   "source": [
    "pred_svdpp_pesos = get_pred(svdpp_pesos, test_pesos)\n",
    "comp_svdpp_pesos = merge_test_pred(test_pesos, pred_svdpp_pesos)\n",
    "hit_rate_svdpp_pesos = get_hit_rate(svdpp_pesos, test_pesos, [5, 10], 1)\n",
    "metrics_svdpp_pesos = get_metrics(comp_svdpp_pesos, 1)\n",
    "export_metrics(metrics_svdpp_pesos, hit_rate_svdpp_pesos, 'Metrics/svdpp_pesos.csv')"
   ]
  },
  {
   "cell_type": "markdown",
   "id": "712c2ff8",
   "metadata": {},
   "source": [
    "## Base Categorias"
   ]
  },
  {
   "cell_type": "code",
   "execution_count": 15,
   "id": "17e3bf73",
   "metadata": {},
   "outputs": [],
   "source": [
    "reader_categorias = Reader(line_format='user item rating', rating_scale=(0, 3))\n",
    "\n",
    "train_categorias_surprise = Dataset.load_from_df(train_categorias[colunas], reader_categorias)\n",
    "full_train_categorias = train_categorias_surprise.build_full_trainset()"
   ]
  },
  {
   "cell_type": "code",
   "execution_count": 16,
   "id": "d85fb61f",
   "metadata": {
    "scrolled": false
   },
   "outputs": [
    {
     "name": "stdout",
     "output_type": "stream",
     "text": [
      "Processing epoch 0\n",
      "Processing epoch 1\n",
      "Processing epoch 2\n",
      "Processing epoch 3\n",
      "Processing epoch 4\n",
      "Processing epoch 5\n",
      "Processing epoch 6\n",
      "Processing epoch 7\n",
      "Processing epoch 8\n",
      "Processing epoch 9\n",
      "Processing epoch 10\n",
      "Processing epoch 11\n",
      "Processing epoch 12\n",
      "Processing epoch 13\n",
      "Processing epoch 14\n",
      "Processing epoch 15\n",
      "Processing epoch 16\n",
      "Processing epoch 17\n",
      "Processing epoch 18\n",
      "Processing epoch 19\n",
      "Processing epoch 20\n",
      "Processing epoch 21\n",
      "Processing epoch 22\n",
      "Processing epoch 23\n",
      "Processing epoch 24\n"
     ]
    },
    {
     "data": {
      "text/plain": [
       "<surprise.prediction_algorithms.matrix_factorization.SVD at 0x213ad862780>"
      ]
     },
     "execution_count": 16,
     "metadata": {},
     "output_type": "execute_result"
    }
   ],
   "source": [
    "svd_categorias = SVD(random_state=0, n_factors=100, n_epochs=25, verbose=True)\n",
    "svd_categorias.fit(full_train_categorias)"
   ]
  },
  {
   "cell_type": "code",
   "execution_count": 17,
   "id": "cd3811f5",
   "metadata": {},
   "outputs": [
    {
     "name": "stdout",
     "output_type": "stream",
     "text": [
      " processing epoch 0\n",
      " processing epoch 1\n",
      " processing epoch 2\n",
      " processing epoch 3\n",
      " processing epoch 4\n",
      " processing epoch 5\n",
      " processing epoch 6\n",
      " processing epoch 7\n",
      " processing epoch 8\n",
      " processing epoch 9\n",
      " processing epoch 10\n",
      " processing epoch 11\n",
      " processing epoch 12\n",
      " processing epoch 13\n",
      " processing epoch 14\n",
      " processing epoch 15\n",
      " processing epoch 16\n",
      " processing epoch 17\n",
      " processing epoch 18\n",
      " processing epoch 19\n",
      " processing epoch 20\n",
      " processing epoch 21\n",
      " processing epoch 22\n",
      " processing epoch 23\n",
      " processing epoch 24\n"
     ]
    },
    {
     "data": {
      "text/plain": [
       "<surprise.prediction_algorithms.matrix_factorization.SVDpp at 0x213bf0f4a90>"
      ]
     },
     "execution_count": 17,
     "metadata": {},
     "output_type": "execute_result"
    }
   ],
   "source": [
    "svdpp_categorias = SVDpp(random_state=0, n_factors=100, n_epochs=25, verbose=True)\n",
    "svdpp_categorias.fit(full_train_categorias)"
   ]
  },
  {
   "cell_type": "code",
   "execution_count": 18,
   "id": "adebda33",
   "metadata": {},
   "outputs": [],
   "source": [
    "pred_svd_categorias = get_pred(svd_categorias, test_categorias)\n",
    "comp_svd_categorias = merge_test_pred(test_categorias, pred_svd_categorias)\n",
    "hit_rate_svd_categorias = get_hit_rate(svd_categorias, test_categorias, [5, 10], 3)\n",
    "metrics_svd_categorias = get_metrics(comp_svd_categorias, 3)\n",
    "export_metrics(metrics_svd_categorias, hit_rate_svd_categorias, 'Metrics/svd_categorias.csv')"
   ]
  },
  {
   "cell_type": "code",
   "execution_count": 19,
   "id": "58a086cf",
   "metadata": {},
   "outputs": [],
   "source": [
    "pred_svdpp_categorias = get_pred(svdpp_categorias, test_categorias)\n",
    "comp_svdpp_categorias = merge_test_pred(test_categorias, pred_svdpp_categorias)\n",
    "hit_rate_svdpp_categorias = get_hit_rate(svdpp_categorias, test_categorias, [5, 10], 3)\n",
    "metrics_svdpp_categorias = get_metrics(comp_svdpp_categorias, 3)\n",
    "export_metrics(metrics_svdpp_categorias, hit_rate_svdpp_categorias, 'Metrics/svdpp_categorias.csv')"
   ]
  }
 ],
 "metadata": {
  "kernelspec": {
   "display_name": "Python (reco)",
   "language": "python",
   "name": "reco_base"
  },
  "language_info": {
   "codemirror_mode": {
    "name": "ipython",
    "version": 3
   },
   "file_extension": ".py",
   "mimetype": "text/x-python",
   "name": "python",
   "nbconvert_exporter": "python",
   "pygments_lexer": "ipython3",
   "version": "3.6.11"
  }
 },
 "nbformat": 4,
 "nbformat_minor": 5
}
