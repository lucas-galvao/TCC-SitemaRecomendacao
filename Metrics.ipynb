{
 "cells": [
  {
   "cell_type": "code",
   "execution_count": 1,
   "id": "f24ebe62",
   "metadata": {},
   "outputs": [],
   "source": [
    "import pandas as pd\n",
    "import numpy as np\n",
    "import matplotlib.pyplot as plt\n",
    "import matplotlib.figure as fig"
   ]
  },
  {
   "cell_type": "markdown",
   "id": "2ba63b15",
   "metadata": {},
   "source": [
    "## Base Binário"
   ]
  },
  {
   "cell_type": "code",
   "execution_count": 2,
   "id": "53d01980",
   "metadata": {},
   "outputs": [],
   "source": [
    "norm_pred_binario = pd.read_csv('Metrics/norm_pred_binario.csv')\n",
    "bl_binario = pd.read_csv('Metrics/bl_binario.csv')\n",
    "svd_binario = pd.read_csv('Metrics/svd_binario.csv')\n",
    "svdpp_binario = pd.read_csv('Metrics/svdpp_binario.csv')\n",
    "nmf_binario = pd.read_csv('Metrics/nmf_binario.csv')"
   ]
  },
  {
   "cell_type": "code",
   "execution_count": 3,
   "id": "b4ff197a",
   "metadata": {},
   "outputs": [],
   "source": [
    "metrics_binario = pd.DataFrame(data=norm_pred_binario)\n",
    "metrics_binario = metrics_binario.append(bl_binario)\n",
    "metrics_binario = metrics_binario.append(svd_binario)\n",
    "metrics_binario = metrics_binario.append(svdpp_binario)\n",
    "metrics_binario = metrics_binario.append(nmf_binario)"
   ]
  },
  {
   "cell_type": "code",
   "execution_count": 4,
   "id": "c2180c71",
   "metadata": {},
   "outputs": [
    {
     "data": {
      "text/html": [
       "<div>\n",
       "<style scoped>\n",
       "    .dataframe tbody tr th:only-of-type {\n",
       "        vertical-align: middle;\n",
       "    }\n",
       "\n",
       "    .dataframe tbody tr th {\n",
       "        vertical-align: top;\n",
       "    }\n",
       "\n",
       "    .dataframe thead th {\n",
       "        text-align: right;\n",
       "    }\n",
       "</style>\n",
       "<table border=\"1\" class=\"dataframe\">\n",
       "  <thead>\n",
       "    <tr style=\"text-align: right;\">\n",
       "      <th></th>\n",
       "      <th>RMSE</th>\n",
       "      <th>MAE</th>\n",
       "      <th>RMSE Sale</th>\n",
       "      <th>MAE Sale</th>\n",
       "      <th>Hit Rate K = 5</th>\n",
       "      <th>Hit Rate K = 10</th>\n",
       "    </tr>\n",
       "  </thead>\n",
       "  <tbody>\n",
       "    <tr>\n",
       "      <th>Normal Predictor</th>\n",
       "      <td>0.121751</td>\n",
       "      <td>0.053705</td>\n",
       "      <td>0.957157</td>\n",
       "      <td>0.955182</td>\n",
       "      <td>0.036364</td>\n",
       "      <td>0.071515</td>\n",
       "    </tr>\n",
       "    <tr>\n",
       "      <th>Baseline Only</th>\n",
       "      <td>0.098231</td>\n",
       "      <td>0.019554</td>\n",
       "      <td>0.961778</td>\n",
       "      <td>0.960090</td>\n",
       "      <td>0.215354</td>\n",
       "      <td>0.378182</td>\n",
       "    </tr>\n",
       "    <tr>\n",
       "      <th>SVD</th>\n",
       "      <td>0.100802</td>\n",
       "      <td>0.024742</td>\n",
       "      <td>0.955800</td>\n",
       "      <td>0.953074</td>\n",
       "      <td>0.164848</td>\n",
       "      <td>0.246061</td>\n",
       "    </tr>\n",
       "    <tr>\n",
       "      <th>SVD++</th>\n",
       "      <td>0.102211</td>\n",
       "      <td>0.027560</td>\n",
       "      <td>0.953922</td>\n",
       "      <td>0.950679</td>\n",
       "      <td>0.131313</td>\n",
       "      <td>0.189899</td>\n",
       "    </tr>\n",
       "    <tr>\n",
       "      <th>NMF</th>\n",
       "      <td>0.000000</td>\n",
       "      <td>0.000000</td>\n",
       "      <td>0.000000</td>\n",
       "      <td>0.000000</td>\n",
       "      <td>0.000000</td>\n",
       "      <td>0.000000</td>\n",
       "    </tr>\n",
       "  </tbody>\n",
       "</table>\n",
       "</div>"
      ],
      "text/plain": [
       "                      RMSE       MAE  RMSE Sale  MAE Sale  Hit Rate K = 5  \\\n",
       "Normal Predictor  0.121751  0.053705   0.957157  0.955182        0.036364   \n",
       "Baseline Only     0.098231  0.019554   0.961778  0.960090        0.215354   \n",
       "SVD               0.100802  0.024742   0.955800  0.953074        0.164848   \n",
       "SVD++             0.102211  0.027560   0.953922  0.950679        0.131313   \n",
       "NMF               0.000000  0.000000   0.000000  0.000000        0.000000   \n",
       "\n",
       "                  Hit Rate K = 10  \n",
       "Normal Predictor         0.071515  \n",
       "Baseline Only            0.378182  \n",
       "SVD                      0.246061  \n",
       "SVD++                    0.189899  \n",
       "NMF                      0.000000  "
      ]
     },
     "execution_count": 4,
     "metadata": {},
     "output_type": "execute_result"
    }
   ],
   "source": [
    "index = pd.Series(['Normal Predictor', 'Baseline Only', 'SVD', 'SVD++', 'NMF'])\n",
    "\n",
    "metrics_binario.set_index(index, inplace=True)\n",
    "metrics_binario.head()"
   ]
  },
  {
   "cell_type": "markdown",
   "id": "05ceead3",
   "metadata": {},
   "source": [
    "## Base Pesos"
   ]
  },
  {
   "cell_type": "code",
   "execution_count": 5,
   "id": "c27443cc",
   "metadata": {},
   "outputs": [],
   "source": [
    "norm_pred_pesos = pd.read_csv('Metrics/norm_pred_pesos.csv')\n",
    "bl_pesos = pd.read_csv('Metrics/bl_pesos.csv')\n",
    "svd_pesos = pd.read_csv('Metrics/svd_pesos.csv')\n",
    "svdpp_pesos = pd.read_csv('Metrics/svdpp_pesos.csv')\n",
    "nmf_pesos = pd.read_csv('Metrics/nmf_pesos.csv')"
   ]
  },
  {
   "cell_type": "code",
   "execution_count": 6,
   "id": "d8c65da3",
   "metadata": {},
   "outputs": [],
   "source": [
    "metrics_pesos = pd.DataFrame(data=norm_pred_pesos)\n",
    "metrics_pesos = metrics_pesos.append(bl_pesos)\n",
    "metrics_pesos = metrics_pesos.append(svd_pesos)\n",
    "metrics_pesos = metrics_pesos.append(svdpp_pesos)\n",
    "metrics_pesos = metrics_pesos.append(nmf_pesos)"
   ]
  },
  {
   "cell_type": "code",
   "execution_count": 7,
   "id": "9f0516cf",
   "metadata": {},
   "outputs": [
    {
     "data": {
      "text/html": [
       "<div>\n",
       "<style scoped>\n",
       "    .dataframe tbody tr th:only-of-type {\n",
       "        vertical-align: middle;\n",
       "    }\n",
       "\n",
       "    .dataframe tbody tr th {\n",
       "        vertical-align: top;\n",
       "    }\n",
       "\n",
       "    .dataframe thead th {\n",
       "        text-align: right;\n",
       "    }\n",
       "</style>\n",
       "<table border=\"1\" class=\"dataframe\">\n",
       "  <thead>\n",
       "    <tr style=\"text-align: right;\">\n",
       "      <th></th>\n",
       "      <th>RMSE</th>\n",
       "      <th>MAE</th>\n",
       "      <th>RMSE Sale</th>\n",
       "      <th>MAE Sale</th>\n",
       "      <th>Hit Rate K = 5</th>\n",
       "      <th>Hit Rate K = 10</th>\n",
       "    </tr>\n",
       "  </thead>\n",
       "  <tbody>\n",
       "    <tr>\n",
       "      <th>Normal Predictor</th>\n",
       "      <td>0.045754</td>\n",
       "      <td>0.030630</td>\n",
       "      <td>0.246486</td>\n",
       "      <td>0.244449</td>\n",
       "      <td>0.037980</td>\n",
       "      <td>0.073939</td>\n",
       "    </tr>\n",
       "    <tr>\n",
       "      <th>Baseline Only</th>\n",
       "      <td>0.032026</td>\n",
       "      <td>0.010513</td>\n",
       "      <td>0.235201</td>\n",
       "      <td>0.234648</td>\n",
       "      <td>0.237980</td>\n",
       "      <td>0.356364</td>\n",
       "    </tr>\n",
       "    <tr>\n",
       "      <th>SVD</th>\n",
       "      <td>0.043476</td>\n",
       "      <td>0.021734</td>\n",
       "      <td>0.236690</td>\n",
       "      <td>0.234007</td>\n",
       "      <td>0.085657</td>\n",
       "      <td>0.143030</td>\n",
       "    </tr>\n",
       "    <tr>\n",
       "      <th>SVD++</th>\n",
       "      <td>0.047430</td>\n",
       "      <td>0.025839</td>\n",
       "      <td>0.236586</td>\n",
       "      <td>0.233416</td>\n",
       "      <td>0.039596</td>\n",
       "      <td>0.076364</td>\n",
       "    </tr>\n",
       "    <tr>\n",
       "      <th>NMF</th>\n",
       "      <td>0.234289</td>\n",
       "      <td>0.142301</td>\n",
       "      <td>0.394094</td>\n",
       "      <td>0.293906</td>\n",
       "      <td>0.111515</td>\n",
       "      <td>0.121616</td>\n",
       "    </tr>\n",
       "  </tbody>\n",
       "</table>\n",
       "</div>"
      ],
      "text/plain": [
       "                      RMSE       MAE  RMSE Sale  MAE Sale  Hit Rate K = 5  \\\n",
       "Normal Predictor  0.045754  0.030630   0.246486  0.244449        0.037980   \n",
       "Baseline Only     0.032026  0.010513   0.235201  0.234648        0.237980   \n",
       "SVD               0.043476  0.021734   0.236690  0.234007        0.085657   \n",
       "SVD++             0.047430  0.025839   0.236586  0.233416        0.039596   \n",
       "NMF               0.234289  0.142301   0.394094  0.293906        0.111515   \n",
       "\n",
       "                  Hit Rate K = 10  \n",
       "Normal Predictor         0.073939  \n",
       "Baseline Only            0.356364  \n",
       "SVD                      0.143030  \n",
       "SVD++                    0.076364  \n",
       "NMF                      0.121616  "
      ]
     },
     "execution_count": 7,
     "metadata": {},
     "output_type": "execute_result"
    }
   ],
   "source": [
    "metrics_pesos.set_index(index, inplace=True)\n",
    "metrics_pesos.head()"
   ]
  },
  {
   "cell_type": "markdown",
   "id": "2006caa1",
   "metadata": {},
   "source": [
    "## Base Categorias"
   ]
  },
  {
   "cell_type": "code",
   "execution_count": 8,
   "id": "a148cb46",
   "metadata": {},
   "outputs": [],
   "source": [
    "norm_pred_categorias = pd.read_csv('Metrics/norm_pred_categorias.csv')\n",
    "bl_categorias = pd.read_csv('Metrics/bl_categorias.csv')\n",
    "svd_categorias = pd.read_csv('Metrics/svd_categorias.csv')\n",
    "svdpp_categorias = pd.read_csv('Metrics/svdpp_categorias.csv')\n",
    "nmf_categorias = pd.read_csv('Metrics/nmf_categorias.csv')"
   ]
  },
  {
   "cell_type": "code",
   "execution_count": 9,
   "id": "67af4fb2",
   "metadata": {},
   "outputs": [],
   "source": [
    "metrics_categorias = pd.DataFrame(data=norm_pred_categorias)\n",
    "metrics_categorias = metrics_categorias.append(bl_categorias)\n",
    "metrics_categorias = metrics_categorias.append(svd_categorias)\n",
    "metrics_categorias = metrics_categorias.append(svdpp_categorias)\n",
    "metrics_categorias = metrics_categorias.append(nmf_categorias)"
   ]
  },
  {
   "cell_type": "code",
   "execution_count": 10,
   "id": "27726e7a",
   "metadata": {},
   "outputs": [
    {
     "data": {
      "text/html": [
       "<div>\n",
       "<style scoped>\n",
       "    .dataframe tbody tr th:only-of-type {\n",
       "        vertical-align: middle;\n",
       "    }\n",
       "\n",
       "    .dataframe tbody tr th {\n",
       "        vertical-align: top;\n",
       "    }\n",
       "\n",
       "    .dataframe thead th {\n",
       "        text-align: right;\n",
       "    }\n",
       "</style>\n",
       "<table border=\"1\" class=\"dataframe\">\n",
       "  <thead>\n",
       "    <tr style=\"text-align: right;\">\n",
       "      <th></th>\n",
       "      <th>RMSE</th>\n",
       "      <th>MAE</th>\n",
       "      <th>RMSE Sale</th>\n",
       "      <th>MAE Sale</th>\n",
       "      <th>Hit Rate K = 5</th>\n",
       "      <th>Hit Rate K = 10</th>\n",
       "    </tr>\n",
       "  </thead>\n",
       "  <tbody>\n",
       "    <tr>\n",
       "      <th>Normal Predictor</th>\n",
       "      <td>0.342040</td>\n",
       "      <td>0.228156</td>\n",
       "      <td>1.974884</td>\n",
       "      <td>1.960953</td>\n",
       "      <td>0.029091</td>\n",
       "      <td>0.062626</td>\n",
       "    </tr>\n",
       "    <tr>\n",
       "      <th>Baseline Only</th>\n",
       "      <td>0.238976</td>\n",
       "      <td>0.076354</td>\n",
       "      <td>1.888718</td>\n",
       "      <td>1.884547</td>\n",
       "      <td>0.242020</td>\n",
       "      <td>0.361616</td>\n",
       "    </tr>\n",
       "    <tr>\n",
       "      <th>SVD</th>\n",
       "      <td>0.241895</td>\n",
       "      <td>0.082213</td>\n",
       "      <td>1.883338</td>\n",
       "      <td>1.876391</td>\n",
       "      <td>0.218182</td>\n",
       "      <td>0.334949</td>\n",
       "    </tr>\n",
       "    <tr>\n",
       "      <th>SVD++</th>\n",
       "      <td>0.243922</td>\n",
       "      <td>0.087131</td>\n",
       "      <td>1.882973</td>\n",
       "      <td>1.873028</td>\n",
       "      <td>0.214141</td>\n",
       "      <td>0.326061</td>\n",
       "    </tr>\n",
       "    <tr>\n",
       "      <th>NMF</th>\n",
       "      <td>0.558624</td>\n",
       "      <td>0.303642</td>\n",
       "      <td>1.962990</td>\n",
       "      <td>1.852153</td>\n",
       "      <td>0.082424</td>\n",
       "      <td>0.160404</td>\n",
       "    </tr>\n",
       "  </tbody>\n",
       "</table>\n",
       "</div>"
      ],
      "text/plain": [
       "                      RMSE       MAE  RMSE Sale  MAE Sale  Hit Rate K = 5  \\\n",
       "Normal Predictor  0.342040  0.228156   1.974884  1.960953        0.029091   \n",
       "Baseline Only     0.238976  0.076354   1.888718  1.884547        0.242020   \n",
       "SVD               0.241895  0.082213   1.883338  1.876391        0.218182   \n",
       "SVD++             0.243922  0.087131   1.882973  1.873028        0.214141   \n",
       "NMF               0.558624  0.303642   1.962990  1.852153        0.082424   \n",
       "\n",
       "                  Hit Rate K = 10  \n",
       "Normal Predictor         0.062626  \n",
       "Baseline Only            0.361616  \n",
       "SVD                      0.334949  \n",
       "SVD++                    0.326061  \n",
       "NMF                      0.160404  "
      ]
     },
     "execution_count": 10,
     "metadata": {},
     "output_type": "execute_result"
    }
   ],
   "source": [
    "metrics_categorias.set_index(index, inplace=True)\n",
    "metrics_categorias.head()"
   ]
  },
  {
   "cell_type": "markdown",
   "id": "68db53d7",
   "metadata": {},
   "source": [
    "## Gráficos"
   ]
  },
  {
   "cell_type": "code",
   "execution_count": 11,
   "id": "df74019d",
   "metadata": {},
   "outputs": [],
   "source": [
    "def addlabels(x,y,a,d):\n",
    "    for i in range(len(x)):\n",
    "        plt.text(i+d, y[i] + a, round(y[i], 3), ha = 'center', color = 'black')#, fontweight = 'bold')"
   ]
  },
  {
   "cell_type": "code",
   "execution_count": 12,
   "id": "9997c963",
   "metadata": {},
   "outputs": [
    {
     "data": {
      "image/png": "[encoded data removed]",
      "text/plain": [
       "<Figure size 720x288 with 1 Axes>"
      ]
     },
     "metadata": {
      "needs_background": "light"
     },
     "output_type": "display_data"
    }
   ],
   "source": [
    "rmse_dict = {'Binário': list(metrics_binario['RMSE']), 'Pesos': list(metrics_pesos['RMSE']), 'Categorias': metrics_categorias['RMSE'], 'Index': index}\n",
    "x = np.arange(5)\n",
    "w = 0.3\n",
    "\n",
    "plt.figure(figsize=(10,4))\n",
    "plt.bar(x-0.3, list(rmse_dict['Binário']), w, color='midnightblue')\n",
    "plt.bar(x, list(rmse_dict['Pesos']), w,color='slategrey')\n",
    "plt.bar(x+0.3, list(rmse_dict['Categorias']), w,color='cornflowerblue')\n",
    "plt.xticks(range(len(rmse_dict['Binário'])), list(rmse_dict['Index']))\n",
    "addlabels(range(len(rmse_dict['Binário'])), list(rmse_dict['Binário']), 0.005, -0.3)\n",
    "addlabels(range(len(rmse_dict['Pesos'])), list(rmse_dict['Pesos']), 0.005, 0)\n",
    "addlabels(range(len(rmse_dict['Categorias'])), list(rmse_dict['Categorias']), 0.005, 0.3)\n",
    "plt.legend(['Binário', 'Pesos', 'Categorias'])\n",
    "plt.title('RMSE')\n",
    "\n",
    "plt.show()"
   ]
  },
  {
   "cell_type": "code",
   "execution_count": 13,
   "id": "9c747a0e",
   "metadata": {},
   "outputs": [
    {
     "data": {
      "image/png": "[encoded data removed]",
      "text/plain": [
       "<Figure size 720x288 with 1 Axes>"
      ]
     },
     "metadata": {
      "needs_background": "light"
     },
     "output_type": "display_data"
    }
   ],
   "source": [
    "mae_dict = {'Binário': list(metrics_binario['MAE']), 'Pesos': list(metrics_pesos['MAE']), 'Categorias': metrics_categorias['MAE'], 'Index': index}\n",
    "x = np.arange(5)\n",
    "w = 0.3\n",
    "\n",
    "plt.figure(figsize=(10,4))\n",
    "plt.bar(x-0.3, list(mae_dict['Binário']), w, color='midnightblue')\n",
    "plt.bar(x, list(mae_dict['Pesos']), w,color='slategrey')\n",
    "plt.bar(x+0.3, list(mae_dict['Categorias']), w,color='cornflowerblue')\n",
    "plt.xticks(range(len(mae_dict['Binário'])), list(mae_dict['Index']))\n",
    "addlabels(range(len(mae_dict['Binário'])), list(mae_dict['Binário']), 0.003, -0.3)\n",
    "addlabels(range(len(mae_dict['Pesos'])), list(mae_dict['Pesos']), 0.003, 0)\n",
    "addlabels(range(len(mae_dict['Categorias'])), list(mae_dict['Categorias']), 0.003, 0.3)\n",
    "plt.legend(['Binário', 'Pesos', 'Categorias'])\n",
    "plt.title('MAE')\n",
    "\n",
    "plt.show()"
   ]
  },
  {
   "cell_type": "code",
   "execution_count": 14,
   "id": "9b4c2104",
   "metadata": {},
   "outputs": [
    {
     "data": {
      "image/png": "[encoded data removed]",
      "text/plain": [
       "<Figure size 720x288 with 1 Axes>"
      ]
     },
     "metadata": {
      "needs_background": "light"
     },
     "output_type": "display_data"
    }
   ],
   "source": [
    "rmse_sale_dict = {'Binário': list(metrics_binario['RMSE Sale']), 'Pesos': list(metrics_pesos['RMSE Sale']), 'Categorias': metrics_categorias['RMSE Sale'], 'Index': index}\n",
    "x = np.arange(5)\n",
    "w = 0.3\n",
    "\n",
    "plt.figure(figsize=(10,4))\n",
    "plt.bar(x-0.3, list(rmse_sale_dict['Binário']), w, color='midnightblue')\n",
    "plt.bar(x, list(rmse_sale_dict['Pesos']), w,color='slategrey')\n",
    "plt.bar(x+0.3, list(rmse_sale_dict['Categorias']), w,color='cornflowerblue')\n",
    "plt.xticks(range(len(rmse_sale_dict['Binário'])), list(rmse_sale_dict['Index']))\n",
    "addlabels(range(len(rmse_sale_dict['Binário'])), list(rmse_sale_dict['Binário']), 0.015, -0.3)\n",
    "addlabels(range(len(rmse_sale_dict['Pesos'])), list(rmse_sale_dict['Pesos']), 0.015, 0)\n",
    "addlabels(range(len(rmse_sale_dict['Categorias'])), list(rmse_sale_dict['Categorias']), 0.015, 0.3)\n",
    "plt.legend(['Binário', 'Pesos', 'Categorias'])\n",
    "plt.title('RMSE Vendas')\n",
    "\n",
    "plt.show()"
   ]
  },
  {
   "cell_type": "code",
   "execution_count": 15,
   "id": "f7ecfed1",
   "metadata": {},
   "outputs": [
    {
     "data": {
      "image/png": "[encoded data removed]",
      "text/plain": [
       "<Figure size 720x288 with 1 Axes>"
      ]
     },
     "metadata": {
      "needs_background": "light"
     },
     "output_type": "display_data"
    }
   ],
   "source": [
    "mae_sale_dict = {'Binário': list(metrics_binario['MAE Sale']), 'Pesos': list(metrics_pesos['MAE Sale']), 'Categorias': metrics_categorias['MAE Sale'], 'Index': index}\n",
    "x = np.arange(5)\n",
    "w = 0.3\n",
    "\n",
    "plt.figure(figsize=(10,4))\n",
    "plt.bar(x-0.3, list(mae_sale_dict['Binário']), w, color='midnightblue')\n",
    "plt.bar(x, list(mae_sale_dict['Pesos']), w,color='slategrey')\n",
    "plt.bar(x+0.3, list(mae_sale_dict['Categorias']), w,color='cornflowerblue')\n",
    "plt.xticks(range(len(mae_sale_dict['Binário'])), list(mae_sale_dict['Index']))\n",
    "addlabels(range(len(mae_sale_dict['Binário'])), list(mae_sale_dict['Binário']), 0.015, -0.3)\n",
    "addlabels(range(len(mae_sale_dict['Pesos'])), list(mae_sale_dict['Pesos']), 0.015, 0)\n",
    "addlabels(range(len(mae_sale_dict['Categorias'])), list(mae_sale_dict['Categorias']), 0.015, 0.3)\n",
    "plt.legend(['Binário', 'Pesos', 'Categorias'])\n",
    "plt.title('MAE Vendas')\n",
    "\n",
    "plt.show()"
   ]
  },
  {
   "cell_type": "code",
   "execution_count": 16,
   "id": "02df69ac",
   "metadata": {},
   "outputs": [
    {
     "data": {
      "image/png": "[encoded data removed]",
      "text/plain": [
       "<Figure size 720x288 with 1 Axes>"
      ]
     },
     "metadata": {
      "needs_background": "light"
     },
     "output_type": "display_data"
    }
   ],
   "source": [
    "hit_5_dict = {'Binário': list(metrics_binario['Hit Rate K = 5']), 'Pesos': list(metrics_pesos['Hit Rate K = 5']), 'Categorias': metrics_categorias['Hit Rate K = 5'], 'Index': index}\n",
    "x = np.arange(5)\n",
    "w = 0.3\n",
    "\n",
    "plt.figure(figsize=(10,4))\n",
    "plt.bar(x-0.3, list(hit_5_dict['Binário']), w, color='midnightblue')\n",
    "plt.bar(x, list(hit_5_dict['Pesos']), w,color='slategrey')\n",
    "plt.bar(x+0.3, list(hit_5_dict['Categorias']), w,color='cornflowerblue')\n",
    "plt.xticks(range(len(hit_5_dict['Binário'])), list(hit_5_dict['Index']))\n",
    "addlabels(range(len(hit_5_dict['Binário'])), list(hit_5_dict['Binário']), 0.0015, -0.3)\n",
    "addlabels(range(len(hit_5_dict['Pesos'])), list(hit_5_dict['Pesos']), 0.0015, 0)\n",
    "addlabels(range(len(hit_5_dict['Categorias'])), list(hit_5_dict['Categorias']), 0.0015, 0.3)\n",
    "plt.legend(['Binário', 'Pesos', 'Categorias'])\n",
    "plt.title('Hit Rate K = 5')\n",
    "\n",
    "plt.show()"
   ]
  },
  {
   "cell_type": "code",
   "execution_count": 17,
   "id": "88dc527a",
   "metadata": {},
   "outputs": [
    {
     "data": {
      "image/png": "[encoded data removed]",
      "text/plain": [
       "<Figure size 720x288 with 1 Axes>"
      ]
     },
     "metadata": {
      "needs_background": "light"
     },
     "output_type": "display_data"
    }
   ],
   "source": [
    "hit_10_dict = {'Binário': list(metrics_binario['Hit Rate K = 10']), 'Pesos': list(metrics_pesos['Hit Rate K = 10']), 'Categorias': metrics_categorias['Hit Rate K = 10'], 'Index': index}\n",
    "x = np.arange(5)\n",
    "w = 0.3\n",
    "\n",
    "plt.figure(figsize=(10,4))\n",
    "plt.bar(x-0.3, list(hit_10_dict['Binário']), w, color='midnightblue')\n",
    "plt.bar(x, list(hit_10_dict['Pesos']), w,color='slategrey')\n",
    "plt.bar(x+0.3, list(hit_10_dict['Categorias']), w,color='cornflowerblue')\n",
    "plt.xticks(range(len(hit_10_dict['Binário'])), list(hit_10_dict['Index']))\n",
    "addlabels(range(len(hit_10_dict['Binário'])), list(hit_10_dict['Binário']), 0.002, -0.3)\n",
    "addlabels(range(len(hit_10_dict['Pesos'])), list(hit_10_dict['Pesos']), 0.002, 0)\n",
    "addlabels(range(len(hit_10_dict['Categorias'])), list(hit_10_dict['Categorias']), 0.002, 0.3)\n",
    "plt.legend(['Binário', 'Pesos', 'Categorias'])\n",
    "plt.title('Hit Rate K = 10')\n",
    "\n",
    "plt.show()"
   ]
  }
 ],
 "metadata": {
  "kernelspec": {
   "display_name": "Python (reco)",
   "language": "python",
   "name": "reco_base"
  },
  "language_info": {
   "codemirror_mode": {
    "name": "ipython",
    "version": 3
   },
   "file_extension": ".py",
   "mimetype": "text/x-python",
   "name": "python",
   "nbconvert_exporter": "python",
   "pygments_lexer": "ipython3",
   "version": "3.6.11"
  }
 },
 "nbformat": 4,
 "nbformat_minor": 5
}
