{
 "cells": [
  {
   "cell_type": "code",
   "execution_count": 1,
   "id": "9ee33bb2",
   "metadata": {},
   "outputs": [],
   "source": [
    "import pandas as pd\n",
    "import numpy as np\n",
    "import datetime as dt"
   ]
  },
  {
   "cell_type": "markdown",
   "id": "7cbd162c",
   "metadata": {},
   "source": [
    "## Carregando a Base"
   ]
  },
  {
   "cell_type": "code",
   "execution_count": 2,
   "id": "00dbb12d",
   "metadata": {},
   "outputs": [
    {
     "data": {
      "text/html": [
       "<div>\n",
       "<style scoped>\n",
       "    .dataframe tbody tr th:only-of-type {\n",
       "        vertical-align: middle;\n",
       "    }\n",
       "\n",
       "    .dataframe tbody tr th {\n",
       "        vertical-align: top;\n",
       "    }\n",
       "\n",
       "    .dataframe thead th {\n",
       "        text-align: right;\n",
       "    }\n",
       "</style>\n",
       "<table border=\"1\" class=\"dataframe\">\n",
       "  <thead>\n",
       "    <tr style=\"text-align: right;\">\n",
       "      <th></th>\n",
       "      <th>timestamp</th>\n",
       "      <th>visitorid</th>\n",
       "      <th>event</th>\n",
       "      <th>itemid</th>\n",
       "      <th>transactionid</th>\n",
       "    </tr>\n",
       "  </thead>\n",
       "  <tbody>\n",
       "    <tr>\n",
       "      <th>0</th>\n",
       "      <td>1433221332117</td>\n",
       "      <td>257597</td>\n",
       "      <td>view</td>\n",
       "      <td>355908</td>\n",
       "      <td>NaN</td>\n",
       "    </tr>\n",
       "    <tr>\n",
       "      <th>1</th>\n",
       "      <td>1433224214164</td>\n",
       "      <td>992329</td>\n",
       "      <td>view</td>\n",
       "      <td>248676</td>\n",
       "      <td>NaN</td>\n",
       "    </tr>\n",
       "    <tr>\n",
       "      <th>2</th>\n",
       "      <td>1433221999827</td>\n",
       "      <td>111016</td>\n",
       "      <td>view</td>\n",
       "      <td>318965</td>\n",
       "      <td>NaN</td>\n",
       "    </tr>\n",
       "    <tr>\n",
       "      <th>3</th>\n",
       "      <td>1433221955914</td>\n",
       "      <td>483717</td>\n",
       "      <td>view</td>\n",
       "      <td>253185</td>\n",
       "      <td>NaN</td>\n",
       "    </tr>\n",
       "    <tr>\n",
       "      <th>4</th>\n",
       "      <td>1433221337106</td>\n",
       "      <td>951259</td>\n",
       "      <td>view</td>\n",
       "      <td>367447</td>\n",
       "      <td>NaN</td>\n",
       "    </tr>\n",
       "  </tbody>\n",
       "</table>\n",
       "</div>"
      ],
      "text/plain": [
       "       timestamp  visitorid event  itemid  transactionid\n",
       "0  1433221332117     257597  view  355908            NaN\n",
       "1  1433224214164     992329  view  248676            NaN\n",
       "2  1433221999827     111016  view  318965            NaN\n",
       "3  1433221955914     483717  view  253185            NaN\n",
       "4  1433221337106     951259  view  367447            NaN"
      ]
     },
     "execution_count": 2,
     "metadata": {},
     "output_type": "execute_result"
    }
   ],
   "source": [
    "events = pd.read_csv('Data\\Raw\\events.csv')\n",
    "\n",
    "events.head()"
   ]
  },
  {
   "cell_type": "markdown",
   "id": "f1567a7c",
   "metadata": {},
   "source": [
    "## Dummies eventos"
   ]
  },
  {
   "cell_type": "code",
   "execution_count": 3,
   "id": "5f25ab80",
   "metadata": {},
   "outputs": [
    {
     "data": {
      "text/html": [
       "<div>\n",
       "<style scoped>\n",
       "    .dataframe tbody tr th:only-of-type {\n",
       "        vertical-align: middle;\n",
       "    }\n",
       "\n",
       "    .dataframe tbody tr th {\n",
       "        vertical-align: top;\n",
       "    }\n",
       "\n",
       "    .dataframe thead th {\n",
       "        text-align: right;\n",
       "    }\n",
       "</style>\n",
       "<table border=\"1\" class=\"dataframe\">\n",
       "  <thead>\n",
       "    <tr style=\"text-align: right;\">\n",
       "      <th></th>\n",
       "      <th>timestamp</th>\n",
       "      <th>userid</th>\n",
       "      <th>itemid</th>\n",
       "      <th>cart</th>\n",
       "      <th>sale</th>\n",
       "      <th>view</th>\n",
       "    </tr>\n",
       "  </thead>\n",
       "  <tbody>\n",
       "    <tr>\n",
       "      <th>0</th>\n",
       "      <td>1430622004384</td>\n",
       "      <td>693516</td>\n",
       "      <td>297662</td>\n",
       "      <td>1</td>\n",
       "      <td>0</td>\n",
       "      <td>0</td>\n",
       "    </tr>\n",
       "    <tr>\n",
       "      <th>1</th>\n",
       "      <td>1430622011289</td>\n",
       "      <td>829044</td>\n",
       "      <td>60987</td>\n",
       "      <td>0</td>\n",
       "      <td>0</td>\n",
       "      <td>1</td>\n",
       "    </tr>\n",
       "    <tr>\n",
       "      <th>2</th>\n",
       "      <td>1430622013048</td>\n",
       "      <td>652699</td>\n",
       "      <td>252860</td>\n",
       "      <td>0</td>\n",
       "      <td>0</td>\n",
       "      <td>1</td>\n",
       "    </tr>\n",
       "    <tr>\n",
       "      <th>3</th>\n",
       "      <td>1430622024154</td>\n",
       "      <td>1125936</td>\n",
       "      <td>33661</td>\n",
       "      <td>0</td>\n",
       "      <td>0</td>\n",
       "      <td>1</td>\n",
       "    </tr>\n",
       "    <tr>\n",
       "      <th>4</th>\n",
       "      <td>1430622026228</td>\n",
       "      <td>693516</td>\n",
       "      <td>297662</td>\n",
       "      <td>0</td>\n",
       "      <td>0</td>\n",
       "      <td>1</td>\n",
       "    </tr>\n",
       "  </tbody>\n",
       "</table>\n",
       "</div>"
      ],
      "text/plain": [
       "       timestamp   userid  itemid  cart  sale  view\n",
       "0  1430622004384   693516  297662     1     0     0\n",
       "1  1430622011289   829044   60987     0     0     1\n",
       "2  1430622013048   652699  252860     0     0     1\n",
       "3  1430622024154  1125936   33661     0     0     1\n",
       "4  1430622026228   693516  297662     0     0     1"
      ]
     },
     "execution_count": 3,
     "metadata": {},
     "output_type": "execute_result"
    }
   ],
   "source": [
    "events = pd.get_dummies(events)\n",
    "events.rename(columns = {'visitorid':'userid', \n",
    "                         'event_addtocart':'cart', \n",
    "                         'event_transaction': 'sale', \n",
    "                         'event_view': 'view'}, \n",
    "              inplace = True)\n",
    "\n",
    "events = events.sort_values(by='timestamp')\n",
    "events = events.reset_index()\n",
    "events.drop(columns=['transactionid', 'index'], axis='columns', inplace=True)\n",
    "\n",
    "events.head()"
   ]
  },
  {
   "cell_type": "code",
   "execution_count": 4,
   "id": "f330160c",
   "metadata": {},
   "outputs": [
    {
     "name": "stdout",
     "output_type": "stream",
     "text": [
      "(2756101, 6)\n"
     ]
    }
   ],
   "source": [
    "print(events.shape)"
   ]
  },
  {
   "cell_type": "code",
   "execution_count": 5,
   "id": "c2cf1081",
   "metadata": {},
   "outputs": [],
   "source": [
    "events.to_csv('Data/events.csv', index=False)"
   ]
  },
  {
   "cell_type": "markdown",
   "id": "9cd84283",
   "metadata": {},
   "source": [
    "## Divisão da Base em Treinamento e Teste"
   ]
  },
  {
   "cell_type": "code",
   "execution_count": 6,
   "id": "2033bc84",
   "metadata": {},
   "outputs": [
    {
     "name": "stdout",
     "output_type": "stream",
     "text": [
      "Data Primeiro Evento: \n",
      "2015-05-03 03:00:04.384000\n",
      "\n",
      "Data Último Evento: \n",
      "2015-09-18 02:59:47.788000\n"
     ]
    }
   ],
   "source": [
    "ts = list(pd.to_datetime(events['timestamp'], unit='ms'))\n",
    "\n",
    "print('Data Primeiro Evento: \\n' + str(ts[0]))\n",
    "print('\\nData Último Evento: \\n' + str(ts[-1]))"
   ]
  },
  {
   "cell_type": "markdown",
   "id": "9d709797",
   "metadata": {},
   "source": [
    "Para a divisão das bases foi determinado que os eventos registrados no último mês, entre os dias 18/08/2015 e 18/09/2015, será destinado a testes, sendo os demais para treinamento."
   ]
  },
  {
   "cell_type": "code",
   "execution_count": 7,
   "id": "61291845",
   "metadata": {},
   "outputs": [
    {
     "name": "stdout",
     "output_type": "stream",
     "text": [
      "(2203328, 6)\n",
      "(552773, 6)\n"
     ]
    }
   ],
   "source": [
    "limite = dt.datetime.strptime('2015-08-18 00:00:00.000000', '%Y-%m-%d %H:%M:%S.%f').timestamp() * 1000\n",
    "\n",
    "df_train = events[events['timestamp'] < limite]\n",
    "df_test = events[events['timestamp'] >= limite]\n",
    "\n",
    "print(df_train.shape)\n",
    "print(df_test.shape)"
   ]
  },
  {
   "cell_type": "markdown",
   "id": "1072e5e0",
   "metadata": {},
   "source": [
    "## Cálculo Rating Treinamento"
   ]
  },
  {
   "cell_type": "code",
   "execution_count": 8,
   "id": "7d39ddf0",
   "metadata": {},
   "outputs": [],
   "source": [
    "train_gb = df_train.groupby(['userid','itemid'], as_index=False).sum()\n",
    "train_rating_binario = []\n",
    "train_rating_pesos = []\n",
    "train_rating_categorias = []\n",
    "\n",
    "for i, row in train_gb.iterrows():\n",
    "    b = 0\n",
    "    p = 0\n",
    "    c = 0\n",
    "    \n",
    "    if row['sale'] > 0:\n",
    "        b = 1\n",
    "        p = 1\n",
    "        c = 3        \n",
    "    elif row['cart'] > 0:\n",
    "        p = 0.9\n",
    "        c = 2\n",
    "    elif row['view'] > 0:\n",
    "        b = 0\n",
    "        p = 0.75\n",
    "        c = 1\n",
    "        \n",
    "    train_rating_binario.append(b)\n",
    "    train_rating_pesos.append(p)\n",
    "    train_rating_categorias.append(c)"
   ]
  },
  {
   "cell_type": "code",
   "execution_count": 9,
   "id": "40c5bfad",
   "metadata": {},
   "outputs": [],
   "source": [
    "train_binario = train_gb.copy()\n",
    "train_binario['rating'] = train_rating_binario\n",
    "train_binario.drop(['timestamp'], axis = 'columns', inplace = True)\n",
    "train_binario.to_csv('Data/train_binario.csv', index=False)"
   ]
  },
  {
   "cell_type": "code",
   "execution_count": 10,
   "id": "a468019a",
   "metadata": {},
   "outputs": [],
   "source": [
    "train_pesos = train_gb.copy()\n",
    "train_pesos['rating'] = train_rating_pesos\n",
    "train_pesos.drop(['timestamp'], axis = 'columns', inplace = True)\n",
    "train_pesos.to_csv('Data/train_pesos.csv', index=False)"
   ]
  },
  {
   "cell_type": "code",
   "execution_count": 11,
   "id": "abe32791",
   "metadata": {},
   "outputs": [],
   "source": [
    "train_categorias = train_gb.copy()\n",
    "train_categorias['rating'] = train_rating_categorias\n",
    "train_categorias.drop(['timestamp'], axis = 'columns', inplace = True)\n",
    "train_categorias.to_csv('Data/train_categorias.csv', index=False)"
   ]
  },
  {
   "cell_type": "markdown",
   "id": "fac2efd8",
   "metadata": {},
   "source": [
    "## Cálculo Rating Teste"
   ]
  },
  {
   "cell_type": "code",
   "execution_count": 12,
   "id": "e1e120e1",
   "metadata": {},
   "outputs": [],
   "source": [
    "test_gb = df_test.groupby(['userid','itemid'], as_index=False).sum()\n",
    "test_rating_binario = []\n",
    "test_rating_pesos = []\n",
    "test_rating_categorias = []\n",
    "\n",
    "for i, row in test_gb.iterrows():\n",
    "    b = 0\n",
    "    p = 0\n",
    "    c = 0\n",
    "    \n",
    "    if row['sale'] > 0:\n",
    "        b = 1\n",
    "        p = 1\n",
    "        c = 3        \n",
    "    elif row['cart'] > 0:\n",
    "        p = 0.9\n",
    "        c = 2\n",
    "    elif row['view'] > 0:\n",
    "        b = 0\n",
    "        p = 0.75\n",
    "        c = 1\n",
    "        \n",
    "    test_rating_binario.append(b)\n",
    "    test_rating_pesos.append(p)\n",
    "    test_rating_categorias.append(c)"
   ]
  },
  {
   "cell_type": "code",
   "execution_count": 13,
   "id": "ed281077",
   "metadata": {},
   "outputs": [],
   "source": [
    "test_binario = test_gb.copy()\n",
    "test_binario['rating'] = test_rating_binario\n",
    "test_binario.drop(['timestamp'], axis = 'columns', inplace = True)\n",
    "test_binario.to_csv('Data/test_binario.csv', index=False)"
   ]
  },
  {
   "cell_type": "code",
   "execution_count": 14,
   "id": "6f0feedf",
   "metadata": {},
   "outputs": [],
   "source": [
    "test_pesos = test_gb.copy()\n",
    "test_pesos['rating'] = test_rating_pesos\n",
    "test_pesos.drop(['timestamp'], axis = 'columns', inplace = True)\n",
    "test_pesos.to_csv('Data/test_pesos.csv', index=False)"
   ]
  },
  {
   "cell_type": "code",
   "execution_count": 15,
   "id": "13bc6192",
   "metadata": {},
   "outputs": [],
   "source": [
    "test_categorias = test_gb.copy()\n",
    "test_categorias['rating'] = test_rating_categorias\n",
    "test_categorias.drop(['timestamp'], axis = 'columns', inplace = True)\n",
    "test_categorias.to_csv('Data/test_categorias.csv', index=False)"
   ]
  }
 ],
 "metadata": {
  "kernelspec": {
   "display_name": "Python 3",
   "language": "python",
   "name": "python3"
  },
  "language_info": {
   "codemirror_mode": {
    "name": "ipython",
    "version": 3
   },
   "file_extension": ".py",
   "mimetype": "text/x-python",
   "name": "python",
   "nbconvert_exporter": "python",
   "pygments_lexer": "ipython3",
   "version": "3.8.5"
  }
 },
 "nbformat": 4,
 "nbformat_minor": 5
}
