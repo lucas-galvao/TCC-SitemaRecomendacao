{
 "cells": [
  {
   "cell_type": "code",
   "execution_count": 1,
   "id": "46877e34",
   "metadata": {},
   "outputs": [],
   "source": [
    "import pandas as pd\n",
    "import numpy as np\n",
    "import random as rd\n",
    "from surprise import Dataset, Reader\n",
    "from surprise.prediction_algorithms.random_pred import NormalPredictor\n",
    "from surprise.prediction_algorithms.baseline_only import BaselineOnly\n",
    "from surprise.dataset import DatasetAutoFolds\n",
    "from Functions import *"
   ]
  },
  {
   "cell_type": "code",
   "execution_count": 20,
   "id": "6554b527",
   "metadata": {},
   "outputs": [],
   "source": [
    "train_binario = pd.read_csv('Data/train_binario.csv')\n",
    "train_pesos = pd.read_csv('Data/train_pesos.csv')\n",
    "train_categorias = pd.read_csv('Data/train_categorias.csv')"
   ]
  },
  {
   "cell_type": "code",
   "execution_count": 21,
   "id": "766720c7",
   "metadata": {},
   "outputs": [],
   "source": [
    "test_binario = pd.read_csv('Data/test_binario.csv')\n",
    "test_pesos = pd.read_csv('Data/test_pesos.csv')\n",
    "test_categorias = pd.read_csv('Data/test_categorias.csv')"
   ]
  },
  {
   "cell_type": "code",
   "execution_count": 4,
   "id": "7d686327",
   "metadata": {},
   "outputs": [],
   "source": [
    "colunas = ['userid','itemid', 'rating']"
   ]
  },
  {
   "cell_type": "markdown",
   "id": "ff211008",
   "metadata": {},
   "source": [
    "## Base Binario"
   ]
  },
  {
   "cell_type": "code",
   "execution_count": 5,
   "id": "829fd668",
   "metadata": {},
   "outputs": [],
   "source": [
    "reader_binario = Reader(line_format='user item rating', rating_scale=(0, 1))\n",
    "\n",
    "train_binario_surprise = Dataset.load_from_df(train_binario[colunas], reader_binario)\n",
    "full_train_binario = train_binario_surprise.build_full_trainset()"
   ]
  },
  {
   "cell_type": "code",
   "execution_count": 6,
   "id": "751a0716",
   "metadata": {
    "scrolled": true
   },
   "outputs": [
    {
     "data": {
      "text/plain": [
       "<surprise.prediction_algorithms.random_pred.NormalPredictor at 0x1b0926b2400>"
      ]
     },
     "execution_count": 6,
     "metadata": {},
     "output_type": "execute_result"
    }
   ],
   "source": [
    "norm_pred_binario = NormalPredictor()\n",
    "norm_pred_binario.fit(full_train_binario)"
   ]
  },
  {
   "cell_type": "code",
   "execution_count": 7,
   "id": "1db43dac",
   "metadata": {},
   "outputs": [
    {
     "name": "stdout",
     "output_type": "stream",
     "text": [
      "Estimating biases using als...\n"
     ]
    },
    {
     "data": {
      "text/plain": [
       "<surprise.prediction_algorithms.baseline_only.BaselineOnly at 0x1b093427198>"
      ]
     },
     "execution_count": 7,
     "metadata": {},
     "output_type": "execute_result"
    }
   ],
   "source": [
    "bl_binario = BaselineOnly()\n",
    "bl_binario.fit(full_train_binario)"
   ]
  },
  {
   "cell_type": "code",
   "execution_count": 8,
   "id": "0bb630d9",
   "metadata": {},
   "outputs": [],
   "source": [
    "pred_norm_pred_binario = get_pred(norm_pred_binario, test_binario)\n",
    "comp_norm_pred_binario = merge_test_pred(test_binario, pred_norm_pred_binario)\n",
    "metrics_norm_pred_binario = get_metrics(comp_norm_pred_binario, 1)\n",
    "hit_rate_norm_pred_binario = get_hit_rate(norm_pred_binario, test_binario, [5, 10], 1)\n",
    "export_metrics(metrics_norm_pred_binario, hit_rate_norm_pred_binario, 'Metrics/norm_pred_binario.csv')"
   ]
  },
  {
   "cell_type": "code",
   "execution_count": 9,
   "id": "144cbe72",
   "metadata": {},
   "outputs": [],
   "source": [
    "pred_bl_binario = get_pred(bl_binario, test_binario)\n",
    "comp_bl_binario = merge_test_pred(test_binario, pred_bl_binario)\n",
    "metrics_bl_binario = get_metrics(comp_bl_binario, 1)\n",
    "hit_rate_bl_binario = get_hit_rate(bl_binario, test_binario, [5, 10], 1)\n",
    "export_metrics(metrics_bl_binario, hit_rate_bl_binario, 'Metrics/bl_binario.csv')"
   ]
  },
  {
   "cell_type": "markdown",
   "id": "5066447d",
   "metadata": {},
   "source": [
    "## Base Pesos"
   ]
  },
  {
   "cell_type": "code",
   "execution_count": 22,
   "id": "e0a41d8c",
   "metadata": {},
   "outputs": [],
   "source": [
    "reader_pesos = Reader(line_format='user item rating', rating_scale=(0, 1))\n",
    "\n",
    "train_pesos_surprise = Dataset.load_from_df(train_pesos[colunas], reader_pesos)\n",
    "full_train_pesos = train_pesos_surprise.build_full_trainset()"
   ]
  },
  {
   "cell_type": "code",
   "execution_count": 23,
   "id": "5c836e78",
   "metadata": {
    "scrolled": true
   },
   "outputs": [
    {
     "data": {
      "text/plain": [
       "<surprise.prediction_algorithms.random_pred.NormalPredictor at 0x1b0da522b00>"
      ]
     },
     "execution_count": 23,
     "metadata": {},
     "output_type": "execute_result"
    }
   ],
   "source": [
    "norm_pred_pesos = NormalPredictor()\n",
    "norm_pred_pesos.fit(full_train_pesos)"
   ]
  },
  {
   "cell_type": "code",
   "execution_count": 24,
   "id": "e1ae0fa3",
   "metadata": {},
   "outputs": [
    {
     "name": "stdout",
     "output_type": "stream",
     "text": [
      "Estimating biases using als...\n"
     ]
    },
    {
     "data": {
      "text/plain": [
       "<surprise.prediction_algorithms.baseline_only.BaselineOnly at 0x1b0da522da0>"
      ]
     },
     "execution_count": 24,
     "metadata": {},
     "output_type": "execute_result"
    }
   ],
   "source": [
    "bl_pesos = BaselineOnly()''\n",
    "bl_pesos.fit(full_train_pesos)"
   ]
  },
  {
   "cell_type": "code",
   "execution_count": 25,
   "id": "46fddcba",
   "metadata": {},
   "outputs": [],
   "source": [
    "pred_norm_pred_pesos = get_pred(norm_pred_pesos, test_pesos)\n",
    "comp_norm_pred_pesos = merge_test_pred(test_pesos, pred_norm_pred_pesos)\n",
    "metrics_norm_pred_pesos = get_metrics(comp_norm_pred_pesos, 1)\n",
    "hit_rate_norm_pred_pesos = get_hit_rate(norm_pred_pesos, test_pesos, [5, 10], 1)\n",
    "export_metrics(metrics_norm_pred_pesos, hit_rate_norm_pred_pesos, 'Metrics/norm_pred_pesos.csv')"
   ]
  },
  {
   "cell_type": "code",
   "execution_count": 26,
   "id": "2655a945",
   "metadata": {},
   "outputs": [],
   "source": [
    "pred_bl_pesos = get_pred(bl_pesos, test_pesos)\n",
    "comp_bl_pesos = merge_test_pred(test_pesos, pred_bl_pesos)\n",
    "metrics_bl_pesos = get_metrics(comp_bl_pesos, 1)\n",
    "hit_rate_bl_pesos = get_hit_rate(bl_pesos, test_pesos, [5, 10], 1)\n",
    "export_metrics(metrics_bl_pesos, hit_rate_bl_pesos, 'Metrics/bl_pesos.csv')"
   ]
  },
  {
   "cell_type": "markdown",
   "id": "d63c742f",
   "metadata": {},
   "source": [
    "## Base Categorias"
   ]
  },
  {
   "cell_type": "code",
   "execution_count": 15,
   "id": "4b7997b8",
   "metadata": {},
   "outputs": [],
   "source": [
    "reader_categorias = Reader(line_format='user item rating', rating_scale=(0, 3))\n",
    "\n",
    "train_categorias_surprise = Dataset.load_from_df(train_categorias[colunas], reader_categorias)\n",
    "full_train_categorias = train_categorias_surprise.build_full_trainset()"
   ]
  },
  {
   "cell_type": "code",
   "execution_count": 16,
   "id": "7f81302a",
   "metadata": {
    "scrolled": true
   },
   "outputs": [
    {
     "data": {
      "text/plain": [
       "<surprise.prediction_algorithms.random_pred.NormalPredictor at 0x1b119193b00>"
      ]
     },
     "execution_count": 16,
     "metadata": {},
     "output_type": "execute_result"
    }
   ],
   "source": [
    "norm_pred_categorias = NormalPredictor()\n",
    "norm_pred_categorias.fit(full_train_categorias)"
   ]
  },
  {
   "cell_type": "code",
   "execution_count": 17,
   "id": "26b51f9f",
   "metadata": {
    "scrolled": true
   },
   "outputs": [
    {
     "name": "stdout",
     "output_type": "stream",
     "text": [
      "Estimating biases using als...\n"
     ]
    },
    {
     "data": {
      "text/plain": [
       "<surprise.prediction_algorithms.baseline_only.BaselineOnly at 0x1b1191937f0>"
      ]
     },
     "execution_count": 17,
     "metadata": {},
     "output_type": "execute_result"
    }
   ],
   "source": [
    "bl_categorias = BaselineOnly()\n",
    "bl_categorias.fit(full_train_categorias)"
   ]
  },
  {
   "cell_type": "code",
   "execution_count": 18,
   "id": "aa965759",
   "metadata": {},
   "outputs": [],
   "source": [
    "pred_norm_pred_categorias = get_pred(norm_pred_categorias, test_categorias)\n",
    "comp_norm_pred_categorias = merge_test_pred(test_categorias, pred_norm_pred_categorias)\n",
    "metrics_norm_pred_categorias = get_metrics(comp_norm_pred_categorias, 3)\n",
    "hit_rate_norm_pred_categorias = get_hit_rate(norm_pred_categorias, test_categorias, [5, 10], 3)\n",
    "export_metrics(metrics_norm_pred_categorias, hit_rate_norm_pred_categorias, 'Metrics/norm_pred_categorias.csv')"
   ]
  },
  {
   "cell_type": "code",
   "execution_count": 19,
   "id": "eabccfb2",
   "metadata": {},
   "outputs": [],
   "source": [
    "pred_bl_categorias = get_pred(bl_categorias, test_categorias)\n",
    "comp_bl_categorias = merge_test_pred(test_categorias, pred_bl_categorias)\n",
    "metrics_bl_categorias = get_metrics(comp_bl_categorias, 3)\n",
    "hit_rate_bl_categorias = get_hit_rate(bl_categorias, test_categorias, [5, 10], 3)\n",
    "export_metrics(metrics_bl_categorias, hit_rate_bl_categorias, 'Metrics/bl_categorias.csv')"
   ]
  }
 ],
 "metadata": {
  "kernelspec": {
   "display_name": "Python (reco)",
   "language": "python",
   "name": "reco_base"
  },
  "language_info": {
   "codemirror_mode": {
    "name": "ipython",
    "version": 3
   },
   "file_extension": ".py",
   "mimetype": "text/x-python",
   "name": "python",
   "nbconvert_exporter": "python",
   "pygments_lexer": "ipython3",
   "version": "3.6.11"
  }
 },
 "nbformat": 4,
 "nbformat_minor": 5
}
